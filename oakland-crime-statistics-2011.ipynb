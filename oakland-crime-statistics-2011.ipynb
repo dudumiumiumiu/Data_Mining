{
 "cells": [
  {
   "cell_type": "markdown",
   "metadata": {},
   "source": [
    "# 数据挖掘作业一"
   ]
  },
  {
   "cell_type": "markdown",
   "metadata": {},
   "source": [
    "# 姓名：林宁 学号：3220190838"
   ]
  },
  {
   "cell_type": "markdown",
   "metadata": {},
   "source": [
    "数据集: Oakland Crime Statistics 2011 to 2016"
   ]
  },
  {
   "cell_type": "code",
   "execution_count": 1,
   "metadata": {},
   "outputs": [],
   "source": [
    "#导入必要的包\n",
    "import pandas as pd\n",
    "import numpy as np\n",
    "import matplotlib.pyplot as plt\n",
    "plt.rcParams['font.family'] = ['sans-serif']\n",
    "plt.rcParams['font.sans-serif'] = ['SimHei']\n",
    "plt.rcParams['axes.unicode_minus']=False\n",
    "from scipy import stats\n",
    "from collections import Counter\n",
    "from math import isnan"
   ]
  },
  {
   "cell_type": "code",
   "execution_count": 2,
   "metadata": {},
   "outputs": [],
   "source": [
    "#读取数据集\n",
    "path = \"./dataset/oakland-crime-statistics-2011-to-2016/\"\n",
    "data_df = pd.read_csv(path+'records-for-2011.csv', index_col=0)"
   ]
  },
  {
   "cell_type": "code",
   "execution_count": 3,
   "metadata": {},
   "outputs": [
    {
     "data": {
      "text/html": [
       "<div>\n",
       "<style scoped>\n",
       "    .dataframe tbody tr th:only-of-type {\n",
       "        vertical-align: middle;\n",
       "    }\n",
       "\n",
       "    .dataframe tbody tr th {\n",
       "        vertical-align: top;\n",
       "    }\n",
       "\n",
       "    .dataframe thead th {\n",
       "        text-align: right;\n",
       "    }\n",
       "</style>\n",
       "<table border=\"1\" class=\"dataframe\">\n",
       "  <thead>\n",
       "    <tr style=\"text-align: right;\">\n",
       "      <th></th>\n",
       "      <th>Create Time</th>\n",
       "      <th>Location</th>\n",
       "      <th>Area Id</th>\n",
       "      <th>Beat</th>\n",
       "      <th>Priority</th>\n",
       "      <th>Incident Type Id</th>\n",
       "      <th>Incident Type Description</th>\n",
       "      <th>Event Number</th>\n",
       "      <th>Closed Time</th>\n",
       "    </tr>\n",
       "    <tr>\n",
       "      <th>Agency</th>\n",
       "      <th></th>\n",
       "      <th></th>\n",
       "      <th></th>\n",
       "      <th></th>\n",
       "      <th></th>\n",
       "      <th></th>\n",
       "      <th></th>\n",
       "      <th></th>\n",
       "      <th></th>\n",
       "    </tr>\n",
       "  </thead>\n",
       "  <tbody>\n",
       "    <tr>\n",
       "      <th>OP</th>\n",
       "      <td>2011-01-01T00:00:00.000</td>\n",
       "      <td>ST&amp;SAN PABLO AV</td>\n",
       "      <td>1.0</td>\n",
       "      <td>06X</td>\n",
       "      <td>1.0</td>\n",
       "      <td>PDOA</td>\n",
       "      <td>POSSIBLE DEAD PERSON</td>\n",
       "      <td>LOP110101000001</td>\n",
       "      <td>2011-01-01T00:28:17.000</td>\n",
       "    </tr>\n",
       "    <tr>\n",
       "      <th>OP</th>\n",
       "      <td>2011-01-01T00:01:11.000</td>\n",
       "      <td>ST&amp;HANNAH ST</td>\n",
       "      <td>1.0</td>\n",
       "      <td>07X</td>\n",
       "      <td>1.0</td>\n",
       "      <td>415GS</td>\n",
       "      <td>415 GUNSHOTS</td>\n",
       "      <td>LOP110101000002</td>\n",
       "      <td>2011-01-01T01:12:56.000</td>\n",
       "    </tr>\n",
       "    <tr>\n",
       "      <th>OP</th>\n",
       "      <td>2011-01-01T00:01:25.000</td>\n",
       "      <td>ST&amp;MARKET ST</td>\n",
       "      <td>1.0</td>\n",
       "      <td>10Y</td>\n",
       "      <td>2.0</td>\n",
       "      <td>415GS</td>\n",
       "      <td>415 GUNSHOTS</td>\n",
       "      <td>LOP110101000003</td>\n",
       "      <td>2011-01-01T00:07:20.000</td>\n",
       "    </tr>\n",
       "    <tr>\n",
       "      <th>OP</th>\n",
       "      <td>2011-01-01T00:01:35.000</td>\n",
       "      <td>PRENTISS ST</td>\n",
       "      <td>2.0</td>\n",
       "      <td>21Y</td>\n",
       "      <td>2.0</td>\n",
       "      <td>415GS</td>\n",
       "      <td>415 GUNSHOTS</td>\n",
       "      <td>LOP110101000005</td>\n",
       "      <td>2011-01-01T00:02:28.000</td>\n",
       "    </tr>\n",
       "    <tr>\n",
       "      <th>OP</th>\n",
       "      <td>2011-01-01T00:02:10.000</td>\n",
       "      <td>AV&amp;FOOTHILL BLVD</td>\n",
       "      <td>2.0</td>\n",
       "      <td>20X</td>\n",
       "      <td>1.0</td>\n",
       "      <td>415GS</td>\n",
       "      <td>415 GUNSHOTS</td>\n",
       "      <td>LOP110101000004</td>\n",
       "      <td>2011-01-01T00:50:04.000</td>\n",
       "    </tr>\n",
       "  </tbody>\n",
       "</table>\n",
       "</div>"
      ],
      "text/plain": [
       "                    Create Time            Location  Area Id Beat  Priority  \\\n",
       "Agency                                                                        \n",
       "OP      2011-01-01T00:00:00.000     ST&SAN PABLO AV      1.0  06X       1.0   \n",
       "OP      2011-01-01T00:01:11.000       ST&HANNAH ST       1.0  07X       1.0   \n",
       "OP      2011-01-01T00:01:25.000       ST&MARKET ST       1.0  10Y       2.0   \n",
       "OP      2011-01-01T00:01:35.000        PRENTISS ST       2.0  21Y       2.0   \n",
       "OP      2011-01-01T00:02:10.000   AV&FOOTHILL BLVD       2.0  20X       1.0   \n",
       "\n",
       "       Incident Type Id Incident Type Description     Event Number  \\\n",
       "Agency                                                               \n",
       "OP                 PDOA      POSSIBLE DEAD PERSON  LOP110101000001   \n",
       "OP                415GS              415 GUNSHOTS  LOP110101000002   \n",
       "OP                415GS              415 GUNSHOTS  LOP110101000003   \n",
       "OP                415GS              415 GUNSHOTS  LOP110101000005   \n",
       "OP                415GS              415 GUNSHOTS  LOP110101000004   \n",
       "\n",
       "                    Closed Time  \n",
       "Agency                           \n",
       "OP      2011-01-01T00:28:17.000  \n",
       "OP      2011-01-01T01:12:56.000  \n",
       "OP      2011-01-01T00:07:20.000  \n",
       "OP      2011-01-01T00:02:28.000  \n",
       "OP      2011-01-01T00:50:04.000  "
      ]
     },
     "execution_count": 3,
     "metadata": {},
     "output_type": "execute_result"
    }
   ],
   "source": [
    "data_df.head() #数据集总览"
   ]
  },
  {
   "cell_type": "code",
   "execution_count": 4,
   "metadata": {},
   "outputs": [
    {
     "data": {
      "text/plain": [
       "Create Time                   object\n",
       "Location                      object\n",
       "Area Id                      float64\n",
       "Beat                          object\n",
       "Priority                     float64\n",
       "Incident Type Id              object\n",
       "Incident Type Description     object\n",
       "Event Number                  object\n",
       "Closed Time                   object\n",
       "dtype: object"
      ]
     },
     "execution_count": 4,
     "metadata": {},
     "output_type": "execute_result"
    }
   ],
   "source": [
    "data_df.dtypes  #每列数据类型"
   ]
  },
  {
   "cell_type": "code",
   "execution_count": 5,
   "metadata": {},
   "outputs": [
    {
     "data": {
      "text/plain": [
       "(180016, 9)"
      ]
     },
     "execution_count": 5,
     "metadata": {},
     "output_type": "execute_result"
    }
   ],
   "source": [
    "data_df.shape  #数据集大小"
   ]
  },
  {
   "cell_type": "markdown",
   "metadata": {},
   "source": [
    "# 3 数据分析要求"
   ]
  },
  {
   "cell_type": "markdown",
   "metadata": {},
   "source": [
    "## 3.1 数据可视化和摘要"
   ]
  },
  {
   "cell_type": "markdown",
   "metadata": {},
   "source": [
    "### 3.1.1 数据摘要"
   ]
  },
  {
   "cell_type": "markdown",
   "metadata": {},
   "source": [
    "#### （1）标称属性，给出每个可能聚会的频数"
   ]
  },
  {
   "cell_type": "markdown",
   "metadata": {},
   "source": [
    "该数据集存在'Create Time','Location','Beat','Incident Type Id','Incident Type Description','Event Number','Closed Time'七个标称属性"
   ]
  },
  {
   "cell_type": "markdown",
   "metadata": {},
   "source": [
    "通过函数value_counts() 来统计出所有标称属性所有取值的数量"
   ]
  },
  {
   "cell_type": "code",
   "execution_count": 6,
   "metadata": {
    "scrolled": true
   },
   "outputs": [
    {
     "data": {
      "text/plain": [
       "2011-06-02T00:00:00.000    4\n",
       "2011-09-21T14:05:59.000    3\n",
       "2011-03-27T00:22:41.000    3\n",
       "2011-04-24T20:39:53.000    2\n",
       "2011-07-19T10:20:05.000    2\n",
       "2011-09-03T07:02:01.000    2\n",
       "2011-05-02T23:50:09.000    2\n",
       "2011-08-24T18:56:09.000    2\n",
       "2011-08-22T19:55:48.000    2\n",
       "2011-11-01T23:08:35.000    2\n",
       "2011-10-18T16:04:12.000    2\n",
       "2011-07-14T13:18:34.000    2\n",
       "2011-02-19T17:22:50.000    2\n",
       "2011-06-27T13:52:59.000    2\n",
       "2011-07-21T14:25:01.000    2\n",
       "2011-08-06T05:53:08.000    2\n",
       "2011-07-06T20:05:52.000    2\n",
       "2011-03-16T18:42:57.000    2\n",
       "2011-08-08T10:44:30.000    2\n",
       "2011-06-27T11:22:38.000    2\n",
       "2011-03-21T00:07:59.000    2\n",
       "2011-08-25T14:06:56.000    2\n",
       "2011-10-09T21:37:37.000    2\n",
       "2011-02-19T10:35:37.000    2\n",
       "2011-07-26T16:10:28.000    2\n",
       "2011-06-03T17:29:26.000    2\n",
       "2011-09-14T12:07:47.000    2\n",
       "2011-04-26T11:15:35.000    2\n",
       "2011-04-16T20:49:41.000    2\n",
       "2011-02-22T13:22:35.000    2\n",
       "                          ..\n",
       "2011-08-24T10:22:35.000    1\n",
       "2011-02-01T14:21:23.000    1\n",
       "2011-03-25T19:45:31.000    1\n",
       "2011-12-01T10:21:25.000    1\n",
       "2011-05-13T17:17:24.000    1\n",
       "2011-01-21T14:19:03.000    1\n",
       "2011-02-01T06:13:07.000    1\n",
       "2011-07-22T20:24:10.000    1\n",
       "2011-07-24T18:23:56.000    1\n",
       "2011-07-16T21:05:54.000    1\n",
       "2011-03-23T12:34:03.000    1\n",
       "2011-09-16T22:51:16.000    1\n",
       "2011-09-16T19:36:06.000    1\n",
       "2011-11-25T20:54:44.000    1\n",
       "2011-05-09T20:04:23.000    1\n",
       "2011-07-22T18:37:56.000    1\n",
       "2011-07-21T22:57:01.000    1\n",
       "2011-06-06T15:11:38.000    1\n",
       "2011-05-05T18:44:39.000    1\n",
       "2011-09-27T07:13:23.000    1\n",
       "2011-01-11T08:27:08.000    1\n",
       "2011-12-27T17:07:51.000    1\n",
       "2011-07-26T10:55:11.000    1\n",
       "2011-07-12T14:38:28.000    1\n",
       "2011-01-18T19:58:49.000    1\n",
       "2011-09-29T23:28:10.000    1\n",
       "2011-09-08T16:21:06.000    1\n",
       "2011-04-30T02:44:57.000    1\n",
       "2011-10-05T02:28:07.000    1\n",
       "2011-07-16T16:06:02.000    1\n",
       "Name: Create Time, Length: 179451, dtype: int64"
      ]
     },
     "execution_count": 6,
     "metadata": {},
     "output_type": "execute_result"
    }
   ],
   "source": [
    "pd.value_counts(data_df['Create Time'])"
   ]
  },
  {
   "cell_type": "code",
   "execution_count": 7,
   "metadata": {
    "scrolled": true
   },
   "outputs": [
    {
     "data": {
      "text/plain": [
       " INTERNATIONAL BLVD        3866\n",
       " MACARTHUR BLVD            3129\n",
       " AV&INTERNATIONAL BLVD     3067\n",
       " BROADWAY                  2132\n",
       " FOOTHILL BLVD             1791\n",
       " TELEGRAPH AV              1584\n",
       " BANCROFT AV               1319\n",
       " SAN PABLO AV              1272\n",
       " FRUITVALE AV              1141\n",
       " 7TH ST                    1093\n",
       " AV&MACARTHUR BLVD         1063\n",
       " ST&BROADWAY               1025\n",
       " HEGENBERGER RD            1024\n",
       " HARRISON ST                990\n",
       " HIGH ST                    987\n",
       " ST&TELEGRAPH AV            984\n",
       " 73RD AV                    976\n",
       " MARKET ST                  840\n",
       " 14TH ST                    824\n",
       " AV&FOOTHILL BLVD           761\n",
       " WEBSTER ST                 680\n",
       " W MACARTHUR BLVD           668\n",
       " AV&BANCROFT AV             667\n",
       " ST&MARTIN LUTHER KING      666\n",
       " ST&SAN PABLO AV            664\n",
       " E 18TH ST                  662\n",
       " MARTIN LUTHER KING         626\n",
       " E 12TH ST                  616\n",
       " ST&MARKET ST               614\n",
       " EDGEWATER DR               611\n",
       "                           ... \n",
       "90TH LAKESIDE DR              1\n",
       "98TH E 26TH ST                1\n",
       "12TH 86TH AV                  1\n",
       "54TH LINCOLN AV               1\n",
       "25TH 79TH AV                  1\n",
       "45TH 12TH AV                  1\n",
       "5TH ELMAR AV                  1\n",
       "35TH AV&MERA ST               1\n",
       "ENOS ALVARADO RD              1\n",
       "HEGENBERGER BIRCH ST          1\n",
       "MARTIN ST&WALTER AV           1\n",
       "BROADWAY VERNON ST            1\n",
       "BRUSH 66TH AV                 1\n",
       " ASCOT LN                     1\n",
       "E 20TH ST&26TH AV             1\n",
       "FOOTHILL 45TH ST              1\n",
       "14TH MASTERSON ST             1\n",
       "66TH CAPISTRANO DR            1\n",
       "74TH AV&HILLMONT DR           1\n",
       "88TH D ST                     1\n",
       "ALMA AV&MACARTHUR BLVD        1\n",
       "20TH 12TH AV                  1\n",
       "GRAND 38TH AV                 1\n",
       "ARDLEY 105TH AV               1\n",
       "BROADWAY&NB 18TH ST           1\n",
       "76TH PEACH ST                 1\n",
       "721B BROWN AV                 1\n",
       "106TH AV&BAYO ST              1\n",
       "46TH 15TH ST                  1\n",
       "34TH I580&WEST ST             1\n",
       "Name: Location, Length: 32505, dtype: int64"
      ]
     },
     "execution_count": 7,
     "metadata": {},
     "output_type": "execute_result"
    }
   ],
   "source": [
    "pd.value_counts(data_df['Location'])"
   ]
  },
  {
   "cell_type": "code",
   "execution_count": 8,
   "metadata": {
    "scrolled": true
   },
   "outputs": [
    {
     "data": {
      "text/plain": [
       "04X     7410\n",
       "08X     6885\n",
       "26Y     5478\n",
       "30Y     5295\n",
       "06X     5119\n",
       "23X     5051\n",
       "30X     4956\n",
       "19X     4955\n",
       "34X     4673\n",
       "29X     4483\n",
       "20X     4287\n",
       "27Y     4159\n",
       "07X     4134\n",
       "31Y     4082\n",
       "25X     4022\n",
       "35X     3880\n",
       "33X     3849\n",
       "03X     3819\n",
       "32X     3711\n",
       "27X     3703\n",
       "09X     3630\n",
       "21Y     3435\n",
       "32Y     3125\n",
       "22X     3061\n",
       "26X     2978\n",
       "02Y     2970\n",
       "10X     2967\n",
       "14X     2733\n",
       "03Y     2726\n",
       "22Y     2664\n",
       "12Y     2651\n",
       "05X     2633\n",
       "02X     2614\n",
       "31X     2603\n",
       "21X     2593\n",
       "17Y     2582\n",
       "24Y     2575\n",
       "13Z     2546\n",
       "15X     2509\n",
       "24X     2459\n",
       "12X     2422\n",
       "10Y     2383\n",
       "01X     2210\n",
       "28X     2191\n",
       "17X     2133\n",
       "11X     2087\n",
       "13Y     2017\n",
       "35Y     1956\n",
       "31Z     1870\n",
       "18Y     1778\n",
       "16Y     1561\n",
       "14Y     1492\n",
       "25Y     1482\n",
       "13X     1122\n",
       "18X     1063\n",
       "16X      994\n",
       "05Y      710\n",
       "PDT2      20\n",
       "Name: Beat, dtype: int64"
      ]
     },
     "execution_count": 8,
     "metadata": {},
     "output_type": "execute_result"
    }
   ],
   "source": [
    "pd.value_counts(data_df['Beat'])"
   ]
  },
  {
   "cell_type": "code",
   "execution_count": 9,
   "metadata": {
    "scrolled": true
   },
   "outputs": [
    {
     "data": {
      "text/plain": [
       "933R      17348\n",
       "911H      12817\n",
       "SECCK     11393\n",
       "415       10752\n",
       "10851      7180\n",
       "415C       6624\n",
       "5150       5031\n",
       "242        4636\n",
       "912        4282\n",
       "243E       4051\n",
       "415GS      3939\n",
       "949        3346\n",
       "211        3148\n",
       "HAZ        3068\n",
       "602L       2791\n",
       "WELCK      2513\n",
       "11500      2509\n",
       "245        2373\n",
       "20002      2233\n",
       "943        2081\n",
       "901A       2075\n",
       "647C       2064\n",
       "415TH      1983\n",
       "601R       1901\n",
       "459        1883\n",
       "CODE7      1874\n",
       "975        1834\n",
       "933SA      1824\n",
       "415N       1603\n",
       "23103      1602\n",
       "          ...  \n",
       "262           2\n",
       "REDALT        2\n",
       "290           2\n",
       "SUSPS         2\n",
       "10852         2\n",
       "166_4         2\n",
       "487E          2\n",
       "300B          2\n",
       "530           2\n",
       "TARA          1\n",
       "PGE           1\n",
       "182           1\n",
       "970A          1\n",
       "10801         1\n",
       "593           1\n",
       "591           1\n",
       "FLOOD         1\n",
       "963           1\n",
       "12020         1\n",
       "243C          1\n",
       "140           1\n",
       "YELALT        1\n",
       "MTHLAB        1\n",
       "518           1\n",
       "148           1\n",
       "148_1         1\n",
       "243B          1\n",
       "666           1\n",
       "346           1\n",
       "LKOUT         1\n",
       "Name: Incident Type Id, Length: 263, dtype: int64"
      ]
     },
     "execution_count": 9,
     "metadata": {},
     "output_type": "execute_result"
    }
   ],
   "source": [
    "pd.value_counts(data_df['Incident Type Id'])"
   ]
  },
  {
   "cell_type": "code",
   "execution_count": 10,
   "metadata": {
    "scrolled": true
   },
   "outputs": [
    {
     "data": {
      "text/plain": [
       "ALARM-RINGER            17348\n",
       "911 HANG-UP             12817\n",
       "SECURITY CHECK          11393\n",
       "STOLEN VEHICLE           7180\n",
       "415 UNKNOWN              6624\n",
       "DISTURBING THE PEACE     5843\n",
       "MENTALLY ILL             5031\n",
       "BATTERY                  4636\n",
       "SUSPICIOUS PERSON        4282\n",
       "BATTERY ON CO-HABITA     4051\n",
       "415 GUNSHOTS             3939\n",
       "415 FAMILY               3595\n",
       "SUSPICIOUS VEHICLE       3346\n",
       "ROBBERY                  3148\n",
       "HAZARDOUS SITUATION/     3068\n",
       "TRESPASS:                2791\n",
       "WELFARE CHECK -- CHE     2513\n",
       "DRUG DEALING             2509\n",
       "ASSAULT W/DEADLY WEA     2373\n",
       "HIT & RUN (PROPERTY      2233\n",
       "FIGHT                    2081\n",
       "VEHICLE COLLISION-PE     2075\n",
       "OBSTRUCT PERSON'S MO     2064\n",
       "415 THREATS              1983\n",
       "RUNAWAY                  1901\n",
       "BURGLARY                 1883\n",
       "SUBJECT ARMED WITH W     1874\n",
       "STAND BY AND PRESERV     1834\n",
       "ALARM-SCHOOL ALARM       1824\n",
       "DISTURBANCE-NEIGHBOR     1603\n",
       "                        ...  \n",
       "IDENTITY THEFT              2\n",
       "CONTEMPT OF COURT/DI        2\n",
       "REQUIRED TO REGISTER        2\n",
       "ANNOYING TELEPHONE C        2\n",
       "INSFRASTRUCTURE SECU        2\n",
       "POSSESS FORGED NOTES        2\n",
       "VEHICLE TAMPERING           2\n",
       "GRAND THEFT: DOG            2\n",
       "SPOUSAL RAPE                2\n",
       "POSSESSION/MANUFACTU        1\n",
       "FLOOD                       1\n",
       "INJURE TELEPHONE/POW        1\n",
       "OBSTRUCTING JUSTICE-        1\n",
       "METHLAB                     1\n",
       "TARASOFF                    1\n",
       "THREATEN WITNESS/VIC        1\n",
       "VEHICLE PARKED ON SI        1\n",
       "CONSPIRACY COURT ORD        1\n",
       "TICKET SCALPING             1\n",
       "ASSAULT ON A POLICE         1\n",
       "INTERFERE WITH POWER        1\n",
       "PETTY THEFT W/PRIORS        1\n",
       "PLAYING BALL IN STRE        1\n",
       "LOCKOUT                     1\n",
       "EXTORTION                   1\n",
       "CHOP SHOP OWNERSHIP/        1\n",
       "AGGRAVATED ASSAULT O        1\n",
       "PACIFIC GAS AND ELEC        1\n",
       "YELLOW ALERT AT THE         1\n",
       "FALSE BOMB REPORT TO        1\n",
       "Name: Incident Type Description, Length: 265, dtype: int64"
      ]
     },
     "execution_count": 10,
     "metadata": {},
     "output_type": "execute_result"
    }
   ],
   "source": [
    "pd.value_counts(data_df['Incident Type Description'])"
   ]
  },
  {
   "cell_type": "code",
   "execution_count": 11,
   "metadata": {
    "scrolled": true
   },
   "outputs": [
    {
     "data": {
      "text/plain": [
       "LOP110827000775    1\n",
       "LOP110401000982    1\n",
       "LOP110219000130    1\n",
       "LOP110603001033    1\n",
       "LOP110914000554    1\n",
       "LOP110122000197    1\n",
       "LOP110203000722    1\n",
       "LOP110208000444    1\n",
       "LOP111228000826    1\n",
       "LOP110913000502    1\n",
       "LOP110317000815    1\n",
       "LOP110322000841    1\n",
       "LOP110413000811    1\n",
       "LOP110216000955    1\n",
       "LOP110304000844    1\n",
       "LOP110219000797    1\n",
       "LOP110428000387    1\n",
       "LOP110723000968    1\n",
       "LOP110518000824    1\n",
       "LOP110528000753    1\n",
       "LOP110524001085    1\n",
       "LOP110103000642    1\n",
       "LOP110512000509    1\n",
       "LOP110425000143    1\n",
       "LOP111209000956    1\n",
       "LOP110822000691    1\n",
       "LOP110127000013    1\n",
       "LOP110513000581    1\n",
       "LOP111006000071    1\n",
       "LOP110816000543    1\n",
       "                  ..\n",
       "LOP110620000535    1\n",
       "LOP110317000260    1\n",
       "LOP110304000676    1\n",
       "LOP110625000213    1\n",
       "LOP110828000736    1\n",
       "LOP111127000334    1\n",
       "LOP111114000125    1\n",
       "LOP111111000708    1\n",
       "LOP110406000727    1\n",
       "LOP110109000151    1\n",
       "LOP110726000359    1\n",
       "LOP110106000114    1\n",
       "LOP110830000062    1\n",
       "LOP111218000491    1\n",
       "LOP110105000311    1\n",
       "LOP110409000526    1\n",
       "LOP110819000404    1\n",
       "LOP110326000284    1\n",
       "LOP110629001069    1\n",
       "LOP110403000664    1\n",
       "LOP110129000772    1\n",
       "LOP111029000288    1\n",
       "LOP110923000396    1\n",
       "LOP111101000384    1\n",
       "LOP111110000612    1\n",
       "LOP111015000740    1\n",
       "LOP110703000535    1\n",
       "LOP111102000220    1\n",
       "LOP110422000962    1\n",
       "LOP110104000799    1\n",
       "Name: Event Number, Length: 180015, dtype: int64"
      ]
     },
     "execution_count": 11,
     "metadata": {},
     "output_type": "execute_result"
    }
   ],
   "source": [
    "pd.value_counts(data_df['Event Number'])"
   ]
  },
  {
   "cell_type": "code",
   "execution_count": 12,
   "metadata": {
    "scrolled": true
   },
   "outputs": [
    {
     "data": {
      "text/plain": [
       "2011-07-01T09:28:07.000    2\n",
       "2011-06-09T08:20:35.000    2\n",
       "2011-05-23T16:39:24.000    2\n",
       "2011-11-29T11:26:14.000    2\n",
       "2011-06-17T13:38:32.000    2\n",
       "2011-11-12T23:55:46.000    2\n",
       "2011-08-01T19:50:11.000    2\n",
       "2011-02-15T18:49:43.000    2\n",
       "2011-10-07T21:29:10.000    2\n",
       "2011-11-24T09:15:33.000    2\n",
       "2011-06-30T22:27:09.000    2\n",
       "2011-05-23T23:41:26.000    2\n",
       "2011-07-31T19:33:20.000    2\n",
       "2011-03-15T14:13:55.000    2\n",
       "2011-04-28T16:12:16.000    2\n",
       "2011-09-04T14:13:02.000    2\n",
       "2011-04-05T20:11:57.000    2\n",
       "2011-07-11T12:42:47.000    2\n",
       "2011-07-26T20:18:54.000    2\n",
       "2011-09-09T21:25:04.000    2\n",
       "2011-06-06T23:33:27.000    2\n",
       "2011-08-17T07:36:07.000    2\n",
       "2011-09-06T19:52:29.000    2\n",
       "2011-06-17T22:46:34.000    2\n",
       "2011-03-19T19:43:57.000    2\n",
       "2011-07-29T23:24:37.000    2\n",
       "2011-04-29T00:03:01.000    2\n",
       "2011-02-12T11:25:48.000    2\n",
       "2011-08-18T17:29:41.000    2\n",
       "2011-02-26T22:55:49.000    2\n",
       "                          ..\n",
       "2011-04-07T21:06:08.000    1\n",
       "2011-09-04T04:45:46.000    1\n",
       "2011-06-11T06:20:24.000    1\n",
       "2011-06-20T02:47:41.000    1\n",
       "2011-10-31T23:49:35.000    1\n",
       "2011-09-23T00:30:53.000    1\n",
       "2011-01-22T17:03:19.000    1\n",
       "2011-06-08T18:05:07.000    1\n",
       "2011-10-04T13:38:48.000    1\n",
       "2011-05-20T02:42:21.000    1\n",
       "2011-04-21T09:47:08.000    1\n",
       "2011-05-03T03:34:52.000    1\n",
       "2011-06-12T00:04:02.000    1\n",
       "2011-09-15T21:25:40.000    1\n",
       "2011-03-20T12:40:50.000    1\n",
       "2011-10-26T16:30:55.000    1\n",
       "2011-09-04T13:29:56.000    1\n",
       "2011-10-29T18:12:56.000    1\n",
       "2011-12-17T20:06:12.000    1\n",
       "2011-09-09T15:33:02.000    1\n",
       "2011-02-28T00:23:29.000    1\n",
       "2011-04-25T01:30:16.000    1\n",
       "2011-04-23T19:26:45.000    1\n",
       "2011-10-11T07:25:05.000    1\n",
       "2011-11-11T00:54:53.000    1\n",
       "2011-05-17T20:22:15.000    1\n",
       "2011-06-17T17:41:44.000    1\n",
       "2011-03-28T06:27:43.000    1\n",
       "2011-07-24T16:27:26.000    1\n",
       "2011-07-30T20:07:21.000    1\n",
       "Name: Closed Time, Length: 179506, dtype: int64"
      ]
     },
     "execution_count": 12,
     "metadata": {},
     "output_type": "execute_result"
    }
   ],
   "source": [
    "pd.value_counts(data_df['Closed Time'])"
   ]
  },
  {
   "cell_type": "markdown",
   "metadata": {},
   "source": [
    "#### （2） 数值属性，给出5数概括及缺失值的个数"
   ]
  },
  {
   "cell_type": "code",
   "execution_count": 13,
   "metadata": {},
   "outputs": [
    {
     "data": {
      "text/plain": [
       "array([ 1.,  2.,  3., nan])"
      ]
     },
     "execution_count": 13,
     "metadata": {},
     "output_type": "execute_result"
    }
   ],
   "source": [
    "pd.unique(data_df['Area Id']) #查看Area Id是否有缺失值"
   ]
  },
  {
   "cell_type": "markdown",
   "metadata": {},
   "source": [
    "Area Id有缺失值"
   ]
  },
  {
   "cell_type": "code",
   "execution_count": 14,
   "metadata": {},
   "outputs": [
    {
     "data": {
      "text/plain": [
       "array([ 1.,  2.,  0., nan])"
      ]
     },
     "execution_count": 14,
     "metadata": {},
     "output_type": "execute_result"
    }
   ],
   "source": [
    "pd.unique(data_df['Priority']) #查看Priority是否有缺失值"
   ]
  },
  {
   "cell_type": "markdown",
   "metadata": {},
   "source": [
    "Priority有缺失值"
   ]
  },
  {
   "cell_type": "code",
   "execution_count": 15,
   "metadata": {},
   "outputs": [
    {
     "name": "stdout",
     "output_type": "stream",
     "text": [
      "The NULL value num of 'Area Id' is: 904\n"
     ]
    }
   ],
   "source": [
    "#查看Area Id缺失值个数\n",
    "print(\"The NULL value num of 'Area Id' is:\",data_df['Area Id'].isnull().sum()) "
   ]
  },
  {
   "cell_type": "code",
   "execution_count": 16,
   "metadata": {},
   "outputs": [
    {
     "name": "stdout",
     "output_type": "stream",
     "text": [
      "The NULL value num of 'Priority' is: 1\n"
     ]
    }
   ],
   "source": [
    "#查看Priority缺失值个数\n",
    "print(\"The NULL value num of 'Priority' is:\",data_df['Priority'].isnull().sum())"
   ]
  },
  {
   "cell_type": "code",
   "execution_count": 17,
   "metadata": {},
   "outputs": [
    {
     "data": {
      "text/html": [
       "<div>\n",
       "<style scoped>\n",
       "    .dataframe tbody tr th:only-of-type {\n",
       "        vertical-align: middle;\n",
       "    }\n",
       "\n",
       "    .dataframe tbody tr th {\n",
       "        vertical-align: top;\n",
       "    }\n",
       "\n",
       "    .dataframe thead th {\n",
       "        text-align: right;\n",
       "    }\n",
       "</style>\n",
       "<table border=\"1\" class=\"dataframe\">\n",
       "  <thead>\n",
       "    <tr style=\"text-align: right;\">\n",
       "      <th></th>\n",
       "      <th>Area Id</th>\n",
       "      <th>Priority</th>\n",
       "    </tr>\n",
       "  </thead>\n",
       "  <tbody>\n",
       "    <tr>\n",
       "      <th>count</th>\n",
       "      <td>179112.000000</td>\n",
       "      <td>180015.000000</td>\n",
       "    </tr>\n",
       "    <tr>\n",
       "      <th>mean</th>\n",
       "      <td>1.740648</td>\n",
       "      <td>1.796111</td>\n",
       "    </tr>\n",
       "    <tr>\n",
       "      <th>std</th>\n",
       "      <td>0.746468</td>\n",
       "      <td>0.402916</td>\n",
       "    </tr>\n",
       "    <tr>\n",
       "      <th>min</th>\n",
       "      <td>1.000000</td>\n",
       "      <td>0.000000</td>\n",
       "    </tr>\n",
       "    <tr>\n",
       "      <th>25%</th>\n",
       "      <td>1.000000</td>\n",
       "      <td>2.000000</td>\n",
       "    </tr>\n",
       "    <tr>\n",
       "      <th>50%</th>\n",
       "      <td>2.000000</td>\n",
       "      <td>2.000000</td>\n",
       "    </tr>\n",
       "    <tr>\n",
       "      <th>75%</th>\n",
       "      <td>2.000000</td>\n",
       "      <td>2.000000</td>\n",
       "    </tr>\n",
       "    <tr>\n",
       "      <th>max</th>\n",
       "      <td>3.000000</td>\n",
       "      <td>2.000000</td>\n",
       "    </tr>\n",
       "  </tbody>\n",
       "</table>\n",
       "</div>"
      ],
      "text/plain": [
       "             Area Id       Priority\n",
       "count  179112.000000  180015.000000\n",
       "mean        1.740648       1.796111\n",
       "std         0.746468       0.402916\n",
       "min         1.000000       0.000000\n",
       "25%         1.000000       2.000000\n",
       "50%         2.000000       2.000000\n",
       "75%         2.000000       2.000000\n",
       "max         3.000000       2.000000"
      ]
     },
     "execution_count": 17,
     "metadata": {},
     "output_type": "execute_result"
    }
   ],
   "source": [
    "# Area Id,Priority的5数概括\n",
    "number_data = ['Area Id','Priority']\n",
    "data_df[number_data].describe()"
   ]
  },
  {
   "cell_type": "markdown",
   "metadata": {},
   "source": [
    "Area Id:最大值3，最小值1，均值1.74，中位数2，四分位数[1,2,2],缺失值个数为904\n",
    "\n",
    "price:最大值2，最小值0，均值1.80，中位数2，四分位数[2,2,2],缺失值个数为1"
   ]
  },
  {
   "cell_type": "markdown",
   "metadata": {},
   "source": [
    "### 3.1.2数据可视化(只针对数值型数据)"
   ]
  },
  {
   "cell_type": "markdown",
   "metadata": {},
   "source": [
    "#### 绘制Area Id直方图、q-q图、盒图"
   ]
  },
  {
   "cell_type": "code",
   "execution_count": 18,
   "metadata": {},
   "outputs": [
    {
     "name": "stderr",
     "output_type": "stream",
     "text": [
      "E:\\Anaconda3\\lib\\site-packages\\scipy\\stats\\_distn_infrastructure.py:903: RuntimeWarning: invalid value encountered in greater\n",
      "  return (a < x) & (x < b)\n",
      "E:\\Anaconda3\\lib\\site-packages\\scipy\\stats\\_distn_infrastructure.py:903: RuntimeWarning: invalid value encountered in less\n",
      "  return (a < x) & (x < b)\n",
      "E:\\Anaconda3\\lib\\site-packages\\scipy\\stats\\_distn_infrastructure.py:1912: RuntimeWarning: invalid value encountered in less_equal\n",
      "  cond2 = cond0 & (x <= _a)\n"
     ]
    },
    {
     "data": {
      "image/png": "[encoded data removed]",
      "text/plain": [
       "<Figure size 720x720 with 4 Axes>"
      ]
     },
     "metadata": {},
     "output_type": "display_data"
    }
   ],
   "source": [
    "plt.figure(figsize=(10, 10))\n",
    "#直方图绘制\n",
    "plt.subplot(2,2,1)\n",
    "plt.title(\"Area Id直方图\")\n",
    "data_df['Area Id'].hist(alpha=0.5,bins=15)\n",
    "\n",
    "#q-q图绘制\n",
    "plt.subplot(2,2,2)\n",
    "stats.probplot(data_df['Area Id'],dist=\"norm\",plot=plt)\n",
    "\n",
    "#去除缺失值再绘制q-q图\n",
    "plt.subplot(2,2,3)\n",
    "data=pd.DataFrame(data_df['Area Id'])\n",
    "data = data.dropna()\n",
    "stats.probplot(data['Area Id'], dist=\"norm\", plot=plt)\n",
    "\n",
    "#盒图\n",
    "plt.subplot(2,2,4)\n",
    "plt.title(\"Area Id盒图\")\n",
    "data_df['Area Id'].plot(kind='box', notch=True, grid=True)\n",
    "plt.show()"
   ]
  },
  {
   "cell_type": "markdown",
   "metadata": {},
   "source": [
    "#### 绘制Priority的直方图、q-q图、盒图"
   ]
  },
  {
   "cell_type": "code",
   "execution_count": 19,
   "metadata": {
    "scrolled": true
   },
   "outputs": [
    {
     "name": "stderr",
     "output_type": "stream",
     "text": [
      "E:\\Anaconda3\\lib\\site-packages\\scipy\\stats\\_distn_infrastructure.py:903: RuntimeWarning: invalid value encountered in greater\n",
      "  return (a < x) & (x < b)\n",
      "E:\\Anaconda3\\lib\\site-packages\\scipy\\stats\\_distn_infrastructure.py:903: RuntimeWarning: invalid value encountered in less\n",
      "  return (a < x) & (x < b)\n",
      "E:\\Anaconda3\\lib\\site-packages\\scipy\\stats\\_distn_infrastructure.py:1912: RuntimeWarning: invalid value encountered in less_equal\n",
      "  cond2 = cond0 & (x <= _a)\n"
     ]
    },
    {
     "data": {
      "image/png": "[encoded data removed]",
      "text/plain": [
       "<Figure size 720x720 with 4 Axes>"
      ]
     },
     "metadata": {},
     "output_type": "display_data"
    }
   ],
   "source": [
    "plt.figure(figsize=(10, 10))\n",
    "#直方图绘制\n",
    "plt.subplot(2,2,1)\n",
    "plt.title(\"Priority直方图\")\n",
    "data_df['Priority'].hist(alpha=0.5,bins=15)\n",
    "\n",
    "#qq图绘制\n",
    "plt.subplot(2,2,2)\n",
    "stats.probplot(data_df['Priority'],dist=\"norm\",plot=plt)\n",
    "\n",
    "#去除缺失值再绘制qq图\n",
    "plt.subplot(2,2,3)\n",
    "data=pd.DataFrame(data_df['Priority'])\n",
    "data = data.dropna()\n",
    "stats.probplot(data['Priority'], dist=\"norm\", plot=plt)\n",
    "\n",
    "#盒图\n",
    "plt.subplot(2,2,4)\n",
    "plt.title(\"Priority盒图\")\n",
    "data_df['Priority'].plot(kind='box', notch=True, grid=True)\n",
    "plt.show()"
   ]
  },
  {
   "cell_type": "markdown",
   "metadata": {},
   "source": [
    "由直方图、q-q图、盒图可以得出：\n",
    "\n",
    "Area Id属性、Priority属性分布均不符合正态分布。"
   ]
  },
  {
   "cell_type": "markdown",
   "metadata": {},
   "source": [
    "## 3.2 数据缺失处理"
   ]
  },
  {
   "cell_type": "code",
   "execution_count": 20,
   "metadata": {},
   "outputs": [],
   "source": [
    "def missing_data(data):\n",
    "    total = data.isnull().sum()\n",
    "    percent = (data.isnull().sum()/data.isnull().count()*100)\n",
    "    tt = pd.concat([total, percent], axis=1, keys=['Total', 'Percent'])\n",
    "    types = []\n",
    "    for col in data.columns:\n",
    "        dtype = str(data[col].dtype)\n",
    "        types.append(dtype)\n",
    "    tt['Types'] = types\n",
    "    return(np.transpose(tt))"
   ]
  },
  {
   "cell_type": "code",
   "execution_count": 21,
   "metadata": {},
   "outputs": [
    {
     "data": {
      "text/html": [
       "<div>\n",
       "<style scoped>\n",
       "    .dataframe tbody tr th:only-of-type {\n",
       "        vertical-align: middle;\n",
       "    }\n",
       "\n",
       "    .dataframe tbody tr th {\n",
       "        vertical-align: top;\n",
       "    }\n",
       "\n",
       "    .dataframe thead th {\n",
       "        text-align: right;\n",
       "    }\n",
       "</style>\n",
       "<table border=\"1\" class=\"dataframe\">\n",
       "  <thead>\n",
       "    <tr style=\"text-align: right;\">\n",
       "      <th></th>\n",
       "      <th>Create Time</th>\n",
       "      <th>Location</th>\n",
       "      <th>Area Id</th>\n",
       "      <th>Beat</th>\n",
       "      <th>Priority</th>\n",
       "      <th>Incident Type Id</th>\n",
       "      <th>Incident Type Description</th>\n",
       "      <th>Event Number</th>\n",
       "      <th>Closed Time</th>\n",
       "    </tr>\n",
       "  </thead>\n",
       "  <tbody>\n",
       "    <tr>\n",
       "      <th>Total</th>\n",
       "      <td>1</td>\n",
       "      <td>0</td>\n",
       "      <td>904</td>\n",
       "      <td>520</td>\n",
       "      <td>1</td>\n",
       "      <td>1</td>\n",
       "      <td>1</td>\n",
       "      <td>1</td>\n",
       "      <td>7</td>\n",
       "    </tr>\n",
       "    <tr>\n",
       "      <th>Percent</th>\n",
       "      <td>0.000555506</td>\n",
       "      <td>0</td>\n",
       "      <td>0.502178</td>\n",
       "      <td>0.288863</td>\n",
       "      <td>0.000555506</td>\n",
       "      <td>0.000555506</td>\n",
       "      <td>0.000555506</td>\n",
       "      <td>0.000555506</td>\n",
       "      <td>0.00388854</td>\n",
       "    </tr>\n",
       "    <tr>\n",
       "      <th>Types</th>\n",
       "      <td>object</td>\n",
       "      <td>object</td>\n",
       "      <td>float64</td>\n",
       "      <td>object</td>\n",
       "      <td>float64</td>\n",
       "      <td>object</td>\n",
       "      <td>object</td>\n",
       "      <td>object</td>\n",
       "      <td>object</td>\n",
       "    </tr>\n",
       "  </tbody>\n",
       "</table>\n",
       "</div>"
      ],
      "text/plain": [
       "         Create Time Location   Area Id      Beat     Priority  \\\n",
       "Total              1        0       904       520            1   \n",
       "Percent  0.000555506        0  0.502178  0.288863  0.000555506   \n",
       "Types         object   object   float64    object      float64   \n",
       "\n",
       "        Incident Type Id Incident Type Description Event Number Closed Time  \n",
       "Total                  1                         1            1           7  \n",
       "Percent      0.000555506               0.000555506  0.000555506  0.00388854  \n",
       "Types             object                    object       object      object  "
      ]
     },
     "execution_count": 21,
     "metadata": {},
     "output_type": "execute_result"
    }
   ],
   "source": [
    "missing_data(data_df)   #原始数据"
   ]
  },
  {
   "cell_type": "markdown",
   "metadata": {},
   "source": [
    "由上表可以看出，\n",
    "\n",
    "数值型数据 Area Id 和 Priority存在缺失值\n",
    "\n",
    "标称型数据 Create Time、Beat、Incident Type Id、Incident Type Description、Event Number、Closed Time"
   ]
  },
  {
   "cell_type": "markdown",
   "metadata": {},
   "source": [
    "### 3.2.1 将缺失部分剔除"
   ]
  },
  {
   "cell_type": "code",
   "execution_count": 22,
   "metadata": {},
   "outputs": [
    {
     "data": {
      "image/png": "[encoded data removed]",
      "text/plain": [
       "<Figure size 720x720 with 3 Axes>"
      ]
     },
     "metadata": {},
     "output_type": "display_data"
    }
   ],
   "source": [
    "#将Area Id缺失部分剔除\n",
    "del_df = data_df\n",
    "del_df = del_df.dropna()\n",
    "\n",
    "#绘制处理后数据的直方图、q-q图、盒图\n",
    "plt.figure(figsize=(10,10))\n",
    "#Area Id直方图\n",
    "plt.subplot(2,2,1)\n",
    "plt.title(\"Area Id直方图\")\n",
    "del_df['Area Id'].hist(alpha=0.5,bins=15)\n",
    "\n",
    "#Area Id q-q图\n",
    "plt.subplot(2,2,2)\n",
    "stats.probplot(del_df['Area Id'],dist=\"norm\",plot=plt)\n",
    "\n",
    "#Area Id 盒图\n",
    "plt.subplot(2,2,3)\n",
    "plt.title(\"Area Id盒图\")\n",
    "del_df['Area Id'].plot(kind='box', notch=True, grid=True)\n",
    "plt.show()"
   ]
  },
  {
   "cell_type": "code",
   "execution_count": 23,
   "metadata": {},
   "outputs": [
    {
     "data": {
      "image/png": "[encoded data removed]",
      "text/plain": [
       "<Figure size 720x720 with 3 Axes>"
      ]
     },
     "metadata": {},
     "output_type": "display_data"
    }
   ],
   "source": [
    "#绘制处理后数据的直方图、q-q图、盒图\n",
    "plt.figure(figsize=(10,10))\n",
    "#Priority 直方图\n",
    "plt.subplot(2,2,1)\n",
    "plt.title(\"Priority直方图\")\n",
    "del_df['Priority'].hist(alpha=0.5,bins=15)\n",
    "\n",
    "#Priority q-q图\n",
    "plt.subplot(2,2,2)\n",
    "stats.probplot(del_df['Priority'],dist=\"norm\",plot=plt)\n",
    "\n",
    "#Priority 盒图\n",
    "plt.subplot(2,2,3)\n",
    "plt.title(\"Priority盒图\")\n",
    "del_df['Priority'].plot(kind='box', notch=True, grid=True)\n",
    "plt.show()"
   ]
  },
  {
   "cell_type": "code",
   "execution_count": 24,
   "metadata": {},
   "outputs": [
    {
     "data": {
      "text/html": [
       "<div>\n",
       "<style scoped>\n",
       "    .dataframe tbody tr th:only-of-type {\n",
       "        vertical-align: middle;\n",
       "    }\n",
       "\n",
       "    .dataframe tbody tr th {\n",
       "        vertical-align: top;\n",
       "    }\n",
       "\n",
       "    .dataframe thead th {\n",
       "        text-align: right;\n",
       "    }\n",
       "</style>\n",
       "<table border=\"1\" class=\"dataframe\">\n",
       "  <thead>\n",
       "    <tr style=\"text-align: right;\">\n",
       "      <th></th>\n",
       "      <th>Create Time</th>\n",
       "      <th>Location</th>\n",
       "      <th>Area Id</th>\n",
       "      <th>Beat</th>\n",
       "      <th>Priority</th>\n",
       "      <th>Incident Type Id</th>\n",
       "      <th>Incident Type Description</th>\n",
       "      <th>Event Number</th>\n",
       "      <th>Closed Time</th>\n",
       "    </tr>\n",
       "  </thead>\n",
       "  <tbody>\n",
       "    <tr>\n",
       "      <th>Total</th>\n",
       "      <td>0</td>\n",
       "      <td>0</td>\n",
       "      <td>0</td>\n",
       "      <td>0</td>\n",
       "      <td>0</td>\n",
       "      <td>0</td>\n",
       "      <td>0</td>\n",
       "      <td>0</td>\n",
       "      <td>0</td>\n",
       "    </tr>\n",
       "    <tr>\n",
       "      <th>Percent</th>\n",
       "      <td>0</td>\n",
       "      <td>0</td>\n",
       "      <td>0</td>\n",
       "      <td>0</td>\n",
       "      <td>0</td>\n",
       "      <td>0</td>\n",
       "      <td>0</td>\n",
       "      <td>0</td>\n",
       "      <td>0</td>\n",
       "    </tr>\n",
       "    <tr>\n",
       "      <th>Types</th>\n",
       "      <td>object</td>\n",
       "      <td>object</td>\n",
       "      <td>float64</td>\n",
       "      <td>object</td>\n",
       "      <td>float64</td>\n",
       "      <td>object</td>\n",
       "      <td>object</td>\n",
       "      <td>object</td>\n",
       "      <td>object</td>\n",
       "    </tr>\n",
       "  </tbody>\n",
       "</table>\n",
       "</div>"
      ],
      "text/plain": [
       "        Create Time Location  Area Id    Beat Priority Incident Type Id  \\\n",
       "Total             0        0        0       0        0                0   \n",
       "Percent           0        0        0       0        0                0   \n",
       "Types        object   object  float64  object  float64           object   \n",
       "\n",
       "        Incident Type Description Event Number Closed Time  \n",
       "Total                           0            0           0  \n",
       "Percent                         0            0           0  \n",
       "Types                      object       object      object  "
      ]
     },
     "execution_count": 24,
     "metadata": {},
     "output_type": "execute_result"
    }
   ],
   "source": [
    "missing_data(del_df)    #验证缺失部分剔除后数据是否有缺失值"
   ]
  },
  {
   "cell_type": "markdown",
   "metadata": {},
   "source": [
    "由上表看出，缺失部分剔除后的数据没有缺失值"
   ]
  },
  {
   "cell_type": "code",
   "execution_count": 25,
   "metadata": {},
   "outputs": [
    {
     "data": {
      "text/html": [
       "<div>\n",
       "<style scoped>\n",
       "    .dataframe tbody tr th:only-of-type {\n",
       "        vertical-align: middle;\n",
       "    }\n",
       "\n",
       "    .dataframe tbody tr th {\n",
       "        vertical-align: top;\n",
       "    }\n",
       "\n",
       "    .dataframe thead th {\n",
       "        text-align: right;\n",
       "    }\n",
       "</style>\n",
       "<table border=\"1\" class=\"dataframe\">\n",
       "  <thead>\n",
       "    <tr style=\"text-align: right;\">\n",
       "      <th></th>\n",
       "      <th>Area Id</th>\n",
       "      <th>Priority</th>\n",
       "    </tr>\n",
       "  </thead>\n",
       "  <tbody>\n",
       "    <tr>\n",
       "      <th>count</th>\n",
       "      <td>178771.000000</td>\n",
       "      <td>178771.000000</td>\n",
       "    </tr>\n",
       "    <tr>\n",
       "      <th>mean</th>\n",
       "      <td>1.740898</td>\n",
       "      <td>1.795252</td>\n",
       "    </tr>\n",
       "    <tr>\n",
       "      <th>std</th>\n",
       "      <td>0.746487</td>\n",
       "      <td>0.403546</td>\n",
       "    </tr>\n",
       "    <tr>\n",
       "      <th>min</th>\n",
       "      <td>1.000000</td>\n",
       "      <td>0.000000</td>\n",
       "    </tr>\n",
       "    <tr>\n",
       "      <th>25%</th>\n",
       "      <td>1.000000</td>\n",
       "      <td>2.000000</td>\n",
       "    </tr>\n",
       "    <tr>\n",
       "      <th>50%</th>\n",
       "      <td>2.000000</td>\n",
       "      <td>2.000000</td>\n",
       "    </tr>\n",
       "    <tr>\n",
       "      <th>75%</th>\n",
       "      <td>2.000000</td>\n",
       "      <td>2.000000</td>\n",
       "    </tr>\n",
       "    <tr>\n",
       "      <th>max</th>\n",
       "      <td>3.000000</td>\n",
       "      <td>2.000000</td>\n",
       "    </tr>\n",
       "  </tbody>\n",
       "</table>\n",
       "</div>"
      ],
      "text/plain": [
       "             Area Id       Priority\n",
       "count  178771.000000  178771.000000\n",
       "mean        1.740898       1.795252\n",
       "std         0.746487       0.403546\n",
       "min         1.000000       0.000000\n",
       "25%         1.000000       2.000000\n",
       "50%         2.000000       2.000000\n",
       "75%         2.000000       2.000000\n",
       "max         3.000000       2.000000"
      ]
     },
     "execution_count": 25,
     "metadata": {},
     "output_type": "execute_result"
    }
   ],
   "source": [
    "del_df[['Area Id','Priority']].describe() #缺失部分剔除后数据的5数概况"
   ]
  },
  {
   "cell_type": "markdown",
   "metadata": {},
   "source": [
    "缺失部分剔除后\n",
    "\n",
    "price:最大值3，最小值1，均值1.74，中位数2，四分位数[1,2,2],缺失值个数为0\n",
    "\n",
    "Priority:最大值2，最小值0，均值1.80，中位数2，四分位数[2,2,2],缺失值个数为0"
   ]
  },
  {
   "cell_type": "markdown",
   "metadata": {},
   "source": [
    "### 3.2.2 用最高频率值来填补缺失值"
   ]
  },
  {
   "cell_type": "code",
   "execution_count": 26,
   "metadata": {},
   "outputs": [
    {
     "name": "stdout",
     "output_type": "stream",
     "text": [
      "2011-06-02T00:00:00.000 <class 'str'>\n",
      "1.0 <class 'float'>\n",
      "04X <class 'str'>\n",
      "2.0 <class 'float'>\n",
      "933R <class 'str'>\n",
      "ALARM-RINGER <class 'str'>\n",
      "LOP110101000001 <class 'str'>\n",
      "2011-01-01T01:39:13.000 <class 'str'>\n"
     ]
    },
    {
     "data": {
      "text/html": [
       "<div>\n",
       "<style scoped>\n",
       "    .dataframe tbody tr th:only-of-type {\n",
       "        vertical-align: middle;\n",
       "    }\n",
       "\n",
       "    .dataframe tbody tr th {\n",
       "        vertical-align: top;\n",
       "    }\n",
       "\n",
       "    .dataframe thead th {\n",
       "        text-align: right;\n",
       "    }\n",
       "</style>\n",
       "<table border=\"1\" class=\"dataframe\">\n",
       "  <thead>\n",
       "    <tr style=\"text-align: right;\">\n",
       "      <th></th>\n",
       "      <th>Create Time</th>\n",
       "      <th>Location</th>\n",
       "      <th>Area Id</th>\n",
       "      <th>Beat</th>\n",
       "      <th>Priority</th>\n",
       "      <th>Incident Type Id</th>\n",
       "      <th>Incident Type Description</th>\n",
       "      <th>Event Number</th>\n",
       "      <th>Closed Time</th>\n",
       "    </tr>\n",
       "    <tr>\n",
       "      <th>Agency</th>\n",
       "      <th></th>\n",
       "      <th></th>\n",
       "      <th></th>\n",
       "      <th></th>\n",
       "      <th></th>\n",
       "      <th></th>\n",
       "      <th></th>\n",
       "      <th></th>\n",
       "      <th></th>\n",
       "    </tr>\n",
       "  </thead>\n",
       "  <tbody>\n",
       "    <tr>\n",
       "      <th>OP</th>\n",
       "      <td>2011-01-01T00:00:00.000</td>\n",
       "      <td>ST&amp;SAN PABLO AV</td>\n",
       "      <td>1.0</td>\n",
       "      <td>06X</td>\n",
       "      <td>1.0</td>\n",
       "      <td>PDOA</td>\n",
       "      <td>POSSIBLE DEAD PERSON</td>\n",
       "      <td>LOP110101000001</td>\n",
       "      <td>2011-01-01T00:28:17.000</td>\n",
       "    </tr>\n",
       "    <tr>\n",
       "      <th>OP</th>\n",
       "      <td>2011-01-01T00:01:11.000</td>\n",
       "      <td>ST&amp;HANNAH ST</td>\n",
       "      <td>1.0</td>\n",
       "      <td>07X</td>\n",
       "      <td>1.0</td>\n",
       "      <td>415GS</td>\n",
       "      <td>415 GUNSHOTS</td>\n",
       "      <td>LOP110101000002</td>\n",
       "      <td>2011-01-01T01:12:56.000</td>\n",
       "    </tr>\n",
       "    <tr>\n",
       "      <th>OP</th>\n",
       "      <td>2011-01-01T00:01:25.000</td>\n",
       "      <td>ST&amp;MARKET ST</td>\n",
       "      <td>1.0</td>\n",
       "      <td>10Y</td>\n",
       "      <td>2.0</td>\n",
       "      <td>415GS</td>\n",
       "      <td>415 GUNSHOTS</td>\n",
       "      <td>LOP110101000003</td>\n",
       "      <td>2011-01-01T00:07:20.000</td>\n",
       "    </tr>\n",
       "    <tr>\n",
       "      <th>OP</th>\n",
       "      <td>2011-01-01T00:01:35.000</td>\n",
       "      <td>PRENTISS ST</td>\n",
       "      <td>2.0</td>\n",
       "      <td>21Y</td>\n",
       "      <td>2.0</td>\n",
       "      <td>415GS</td>\n",
       "      <td>415 GUNSHOTS</td>\n",
       "      <td>LOP110101000005</td>\n",
       "      <td>2011-01-01T00:02:28.000</td>\n",
       "    </tr>\n",
       "    <tr>\n",
       "      <th>OP</th>\n",
       "      <td>2011-01-01T00:02:10.000</td>\n",
       "      <td>AV&amp;FOOTHILL BLVD</td>\n",
       "      <td>2.0</td>\n",
       "      <td>20X</td>\n",
       "      <td>1.0</td>\n",
       "      <td>415GS</td>\n",
       "      <td>415 GUNSHOTS</td>\n",
       "      <td>LOP110101000004</td>\n",
       "      <td>2011-01-01T00:50:04.000</td>\n",
       "    </tr>\n",
       "  </tbody>\n",
       "</table>\n",
       "</div>"
      ],
      "text/plain": [
       "                    Create Time            Location  Area Id Beat  Priority  \\\n",
       "Agency                                                                        \n",
       "OP      2011-01-01T00:00:00.000     ST&SAN PABLO AV      1.0  06X       1.0   \n",
       "OP      2011-01-01T00:01:11.000       ST&HANNAH ST       1.0  07X       1.0   \n",
       "OP      2011-01-01T00:01:25.000       ST&MARKET ST       1.0  10Y       2.0   \n",
       "OP      2011-01-01T00:01:35.000        PRENTISS ST       2.0  21Y       2.0   \n",
       "OP      2011-01-01T00:02:10.000   AV&FOOTHILL BLVD       2.0  20X       1.0   \n",
       "\n",
       "       Incident Type Id Incident Type Description     Event Number  \\\n",
       "Agency                                                               \n",
       "OP                 PDOA      POSSIBLE DEAD PERSON  LOP110101000001   \n",
       "OP                415GS              415 GUNSHOTS  LOP110101000002   \n",
       "OP                415GS              415 GUNSHOTS  LOP110101000003   \n",
       "OP                415GS              415 GUNSHOTS  LOP110101000005   \n",
       "OP                415GS              415 GUNSHOTS  LOP110101000004   \n",
       "\n",
       "                    Closed Time  \n",
       "Agency                           \n",
       "OP      2011-01-01T00:28:17.000  \n",
       "OP      2011-01-01T01:12:56.000  \n",
       "OP      2011-01-01T00:07:20.000  \n",
       "OP      2011-01-01T00:02:28.000  \n",
       "OP      2011-01-01T00:50:04.000  "
      ]
     },
     "execution_count": 26,
     "metadata": {},
     "output_type": "execute_result"
    }
   ],
   "source": [
    "#用最高频率值来填补Area Id缺失值\n",
    "fill_df = data_df\n",
    "miss_features = ['Create Time','Area Id','Beat','Priority','Incident Type Id','Incident Type Description','Event Number','Closed Time']\n",
    "\n",
    "for col in miss_features:\n",
    "    word_counts = Counter(fill_df[col])\n",
    "    top = word_counts.most_common(1)[0][0]\n",
    "    if type(top) != str:\n",
    "        if isnan(top):\n",
    "            top = word_counts.most_common(2)[1][0]\n",
    "    print(top, type(top))\n",
    "    temp = fill_df[col].fillna(top)\n",
    "    fill_df[col] = temp\n",
    "fill_df.head()"
   ]
  },
  {
   "cell_type": "code",
   "execution_count": 27,
   "metadata": {},
   "outputs": [
    {
     "data": {
      "image/png": "[encoded data removed]",
      "text/plain": [
       "<Figure size 720x720 with 3 Axes>"
      ]
     },
     "metadata": {},
     "output_type": "display_data"
    }
   ],
   "source": [
    "path = \"./dataset/oakland-crime-statistics-2011-to-2016/\"\n",
    "data_df = pd.read_csv(path+'records-for-2011.csv', index_col=0)\n",
    "\n",
    "#绘制处理后数据的直方图、q-q图、盒图\n",
    "plt.figure(figsize=(10,10))\n",
    "#Area Id直方图\n",
    "plt.subplot(2,2,1)\n",
    "plt.title(\"Area Id直方图\")\n",
    "fill_df['Area Id'].hist(bins=15)\n",
    "data_df['Area Id'].hist(bins=15)\n",
    "plt.legend(['new','old'])\n",
    "\n",
    "#Area Id q-q图绘制\n",
    "plt.subplot(2,2,2)\n",
    "stats.probplot(fill_df['Area Id'], dist=\"norm\", plot=plt)\n",
    "\n",
    "#Area Id 绘制盒图\n",
    "plt.subplot(2,2,3)\n",
    "plt.title(\"Area Id盒图\")\n",
    "fill_df['Area Id'].plot(kind='box', notch=True, grid=True)\n",
    "plt.show()"
   ]
  },
  {
   "cell_type": "code",
   "execution_count": 28,
   "metadata": {},
   "outputs": [
    {
     "data": {
      "image/png": "[encoded data removed]",
      "text/plain": [
       "<Figure size 720x720 with 3 Axes>"
      ]
     },
     "metadata": {},
     "output_type": "display_data"
    }
   ],
   "source": [
    "#绘制处理后数据的直方图、q-q图、盒图\n",
    "plt.figure(figsize=(10,10))\n",
    "#Priority直方图\n",
    "plt.subplot(2,2,1)\n",
    "plt.title(\"Priority直方图\")\n",
    "fill_df['Priority'].hist(bins=15)\n",
    "data_df['Priority'].hist(bins=15)\n",
    "plt.legend(['new','old'])\n",
    "\n",
    "#Priority q-q图绘制\n",
    "plt.subplot(2,2,2)\n",
    "stats.probplot(fill_df['Priority'], dist=\"norm\", plot=plt)\n",
    "\n",
    "#Priority盒图\n",
    "plt.subplot(2,2,3)\n",
    "plt.title(\"Priority盒图\")\n",
    "fill_df['Priority'].plot(kind='box', notch=True, grid=True)\n",
    "plt.show()"
   ]
  },
  {
   "cell_type": "code",
   "execution_count": 29,
   "metadata": {},
   "outputs": [
    {
     "data": {
      "text/html": [
       "<div>\n",
       "<style scoped>\n",
       "    .dataframe tbody tr th:only-of-type {\n",
       "        vertical-align: middle;\n",
       "    }\n",
       "\n",
       "    .dataframe tbody tr th {\n",
       "        vertical-align: top;\n",
       "    }\n",
       "\n",
       "    .dataframe thead th {\n",
       "        text-align: right;\n",
       "    }\n",
       "</style>\n",
       "<table border=\"1\" class=\"dataframe\">\n",
       "  <thead>\n",
       "    <tr style=\"text-align: right;\">\n",
       "      <th></th>\n",
       "      <th>Create Time</th>\n",
       "      <th>Location</th>\n",
       "      <th>Area Id</th>\n",
       "      <th>Beat</th>\n",
       "      <th>Priority</th>\n",
       "      <th>Incident Type Id</th>\n",
       "      <th>Incident Type Description</th>\n",
       "      <th>Event Number</th>\n",
       "      <th>Closed Time</th>\n",
       "    </tr>\n",
       "  </thead>\n",
       "  <tbody>\n",
       "    <tr>\n",
       "      <th>Total</th>\n",
       "      <td>0</td>\n",
       "      <td>0</td>\n",
       "      <td>0</td>\n",
       "      <td>0</td>\n",
       "      <td>0</td>\n",
       "      <td>0</td>\n",
       "      <td>0</td>\n",
       "      <td>0</td>\n",
       "      <td>0</td>\n",
       "    </tr>\n",
       "    <tr>\n",
       "      <th>Percent</th>\n",
       "      <td>0</td>\n",
       "      <td>0</td>\n",
       "      <td>0</td>\n",
       "      <td>0</td>\n",
       "      <td>0</td>\n",
       "      <td>0</td>\n",
       "      <td>0</td>\n",
       "      <td>0</td>\n",
       "      <td>0</td>\n",
       "    </tr>\n",
       "    <tr>\n",
       "      <th>Types</th>\n",
       "      <td>object</td>\n",
       "      <td>object</td>\n",
       "      <td>float64</td>\n",
       "      <td>object</td>\n",
       "      <td>float64</td>\n",
       "      <td>object</td>\n",
       "      <td>object</td>\n",
       "      <td>object</td>\n",
       "      <td>object</td>\n",
       "    </tr>\n",
       "  </tbody>\n",
       "</table>\n",
       "</div>"
      ],
      "text/plain": [
       "        Create Time Location  Area Id    Beat Priority Incident Type Id  \\\n",
       "Total             0        0        0       0        0                0   \n",
       "Percent           0        0        0       0        0                0   \n",
       "Types        object   object  float64  object  float64           object   \n",
       "\n",
       "        Incident Type Description Event Number Closed Time  \n",
       "Total                           0            0           0  \n",
       "Percent                         0            0           0  \n",
       "Types                      object       object      object  "
      ]
     },
     "execution_count": 29,
     "metadata": {},
     "output_type": "execute_result"
    }
   ],
   "source": [
    "missing_data(fill_df) #验证缺失部分剔除后数据是否有缺失值"
   ]
  },
  {
   "cell_type": "markdown",
   "metadata": {},
   "source": [
    "由上表看出，用高频数据填补后数据后的数据没有缺失值"
   ]
  },
  {
   "cell_type": "code",
   "execution_count": 30,
   "metadata": {},
   "outputs": [
    {
     "data": {
      "text/html": [
       "<div>\n",
       "<style scoped>\n",
       "    .dataframe tbody tr th:only-of-type {\n",
       "        vertical-align: middle;\n",
       "    }\n",
       "\n",
       "    .dataframe tbody tr th {\n",
       "        vertical-align: top;\n",
       "    }\n",
       "\n",
       "    .dataframe thead th {\n",
       "        text-align: right;\n",
       "    }\n",
       "</style>\n",
       "<table border=\"1\" class=\"dataframe\">\n",
       "  <thead>\n",
       "    <tr style=\"text-align: right;\">\n",
       "      <th></th>\n",
       "      <th>Area Id</th>\n",
       "      <th>Priority</th>\n",
       "    </tr>\n",
       "  </thead>\n",
       "  <tbody>\n",
       "    <tr>\n",
       "      <th>count</th>\n",
       "      <td>180016.000000</td>\n",
       "      <td>180016.000000</td>\n",
       "    </tr>\n",
       "    <tr>\n",
       "      <th>mean</th>\n",
       "      <td>1.736929</td>\n",
       "      <td>1.796113</td>\n",
       "    </tr>\n",
       "    <tr>\n",
       "      <th>std</th>\n",
       "      <td>0.746430</td>\n",
       "      <td>0.402915</td>\n",
       "    </tr>\n",
       "    <tr>\n",
       "      <th>min</th>\n",
       "      <td>1.000000</td>\n",
       "      <td>0.000000</td>\n",
       "    </tr>\n",
       "    <tr>\n",
       "      <th>25%</th>\n",
       "      <td>1.000000</td>\n",
       "      <td>2.000000</td>\n",
       "    </tr>\n",
       "    <tr>\n",
       "      <th>50%</th>\n",
       "      <td>2.000000</td>\n",
       "      <td>2.000000</td>\n",
       "    </tr>\n",
       "    <tr>\n",
       "      <th>75%</th>\n",
       "      <td>2.000000</td>\n",
       "      <td>2.000000</td>\n",
       "    </tr>\n",
       "    <tr>\n",
       "      <th>max</th>\n",
       "      <td>3.000000</td>\n",
       "      <td>2.000000</td>\n",
       "    </tr>\n",
       "  </tbody>\n",
       "</table>\n",
       "</div>"
      ],
      "text/plain": [
       "             Area Id       Priority\n",
       "count  180016.000000  180016.000000\n",
       "mean        1.736929       1.796113\n",
       "std         0.746430       0.402915\n",
       "min         1.000000       0.000000\n",
       "25%         1.000000       2.000000\n",
       "50%         2.000000       2.000000\n",
       "75%         2.000000       2.000000\n",
       "max         3.000000       2.000000"
      ]
     },
     "execution_count": 30,
     "metadata": {},
     "output_type": "execute_result"
    }
   ],
   "source": [
    "fill_df[['Area Id','Priority']].describe()  #缺失部分剔除后数据的5数概况"
   ]
  },
  {
   "cell_type": "markdown",
   "metadata": {},
   "source": [
    "用高频数据填补后\n",
    "\n",
    "price:最大值3，最小值1，均值1.74，中位数2，四分位数[1,2,2],缺失值个数为0\n",
    "\n",
    "Priority:最大值2，最小值0，均值1.80，中位数2，四分位数[2,2,2],缺失值个数为0"
   ]
  },
  {
   "cell_type": "markdown",
   "metadata": {},
   "source": [
    "### 3.2.3 通过属性的相关关系来填补缺失值"
   ]
  },
  {
   "cell_type": "code",
   "execution_count": 31,
   "metadata": {},
   "outputs": [
    {
     "data": {
      "text/html": [
       "<div>\n",
       "<style scoped>\n",
       "    .dataframe tbody tr th:only-of-type {\n",
       "        vertical-align: middle;\n",
       "    }\n",
       "\n",
       "    .dataframe tbody tr th {\n",
       "        vertical-align: top;\n",
       "    }\n",
       "\n",
       "    .dataframe thead th {\n",
       "        text-align: right;\n",
       "    }\n",
       "</style>\n",
       "<table border=\"1\" class=\"dataframe\">\n",
       "  <thead>\n",
       "    <tr style=\"text-align: right;\">\n",
       "      <th></th>\n",
       "      <th>Area Id</th>\n",
       "      <th>Priority</th>\n",
       "    </tr>\n",
       "  </thead>\n",
       "  <tbody>\n",
       "    <tr>\n",
       "      <th>Area Id</th>\n",
       "      <td>1.000000</td>\n",
       "      <td>-0.023366</td>\n",
       "    </tr>\n",
       "    <tr>\n",
       "      <th>Priority</th>\n",
       "      <td>-0.023366</td>\n",
       "      <td>1.000000</td>\n",
       "    </tr>\n",
       "  </tbody>\n",
       "</table>\n",
       "</div>"
      ],
      "text/plain": [
       "           Area Id  Priority\n",
       "Area Id   1.000000 -0.023366\n",
       "Priority -0.023366  1.000000"
      ]
     },
     "execution_count": 31,
     "metadata": {},
     "output_type": "execute_result"
    }
   ],
   "source": [
    "data_df.corr()"
   ]
  },
  {
   "cell_type": "code",
   "execution_count": 32,
   "metadata": {},
   "outputs": [],
   "source": [
    "#通过属性的相关关系来填补Area Id缺失值\n",
    "target_data = data_df['Area Id']\n",
    "source_data = data_df['Priority']\n",
    "flag1 = target_data.isnull().values\n",
    "flag2 = source_data.isnull().values\n",
    "complete_data = target_data.copy()\n",
    "i=0\n",
    "for _, value in target_data.iteritems():    \n",
    "    if (flag1[i] == True)and(flag2[i] == False):\n",
    "        complete_data[i] = 3 - source_data[i]\n",
    "    i=i+1\n",
    "values_clean = list(complete_data.dropna().values)"
   ]
  },
  {
   "cell_type": "code",
   "execution_count": 33,
   "metadata": {},
   "outputs": [
    {
     "data": {
      "image/png": "[encoded data removed]",
      "text/plain": [
       "<Figure size 720x720 with 3 Axes>"
      ]
     },
     "metadata": {},
     "output_type": "display_data"
    }
   ],
   "source": [
    "#绘制处理后数据的直方图、q-q图、盒图\n",
    "fill_areaid2=pd.DataFrame(values_clean,columns=['Area Id'])\n",
    "plt.figure(figsize=(10,10))\n",
    "#Area Id 直方图\n",
    "plt.subplot(2,2,1)\n",
    "plt.title(\"Area Id直方图\")\n",
    "fill_areaid2['Area Id'].hist(bins=15)\n",
    "\n",
    "#Area Id q-q图\n",
    "plt.subplot(2,2,2)\n",
    "stats.probplot(fill_areaid2['Area Id'], dist=\"norm\", plot=plt)\n",
    "\n",
    "\n",
    "#Area Id盒图\n",
    "plt.subplot(2,2,3)\n",
    "plt.title(\"Area Id盒图\")\n",
    "fill_areaid2['Area Id'].plot(kind='box', notch=True, grid=True)\n",
    "\n",
    "plt.show()"
   ]
  },
  {
   "cell_type": "code",
   "execution_count": 34,
   "metadata": {},
   "outputs": [],
   "source": [
    "#通过属性的相关关系来填补Priority缺失值\n",
    "target_data2 = data_df['Priority']\n",
    "source_data2 = data_df['Area Id']\n",
    "flag12 = target_data2.isnull().values\n",
    "flag22 = source_data2.isnull().values\n",
    "complete_data2 = target_data2.copy()\n",
    "i=0\n",
    "for _, value in target_data2.iteritems():    \n",
    "    if (flag12[i] == True)and(flag22[i] == False):\n",
    "        complete_data2[i] = 2 - source_data2[i]\n",
    "    i=i+1\n",
    "values_clean2 = list(complete_data2.dropna().values)"
   ]
  },
  {
   "cell_type": "code",
   "execution_count": 35,
   "metadata": {},
   "outputs": [
    {
     "data": {
      "image/png": "[encoded data removed]",
      "text/plain": [
       "<Figure size 720x720 with 3 Axes>"
      ]
     },
     "metadata": {},
     "output_type": "display_data"
    }
   ],
   "source": [
    "fill_priority2=pd.DataFrame(values_clean2,columns=['Priority'])\n",
    "plt.figure(figsize=(10,10))\n",
    "#Priority直方图\n",
    "plt.subplot(2,2,1)\n",
    "plt.title(\"Priority直方图\")\n",
    "fill_priority2['Priority'].hist(bins=15)\n",
    "\n",
    "#Priority q-q图\n",
    "plt.subplot(2,2,2)\n",
    "stats.probplot(fill_priority2['Priority'], dist=\"norm\", plot=plt)\n",
    "\n",
    "\n",
    "#Priority 盒图\n",
    "plt.subplot(2,2,3)\n",
    "plt.title(\"Priority盒图\")\n",
    "fill_priority2['Priority'].plot(kind='box', notch=True, grid=True)\n",
    "\n",
    "plt.show()"
   ]
  },
  {
   "cell_type": "code",
   "execution_count": 36,
   "metadata": {},
   "outputs": [
    {
     "data": {
      "text/html": [
       "<div>\n",
       "<style scoped>\n",
       "    .dataframe tbody tr th:only-of-type {\n",
       "        vertical-align: middle;\n",
       "    }\n",
       "\n",
       "    .dataframe tbody tr th {\n",
       "        vertical-align: top;\n",
       "    }\n",
       "\n",
       "    .dataframe thead th {\n",
       "        text-align: right;\n",
       "    }\n",
       "</style>\n",
       "<table border=\"1\" class=\"dataframe\">\n",
       "  <thead>\n",
       "    <tr style=\"text-align: right;\">\n",
       "      <th></th>\n",
       "      <th>Area Id</th>\n",
       "    </tr>\n",
       "  </thead>\n",
       "  <tbody>\n",
       "    <tr>\n",
       "      <th>Total</th>\n",
       "      <td>0</td>\n",
       "    </tr>\n",
       "    <tr>\n",
       "      <th>Percent</th>\n",
       "      <td>0</td>\n",
       "    </tr>\n",
       "    <tr>\n",
       "      <th>Types</th>\n",
       "      <td>float64</td>\n",
       "    </tr>\n",
       "  </tbody>\n",
       "</table>\n",
       "</div>"
      ],
      "text/plain": [
       "         Area Id\n",
       "Total          0\n",
       "Percent        0\n",
       "Types    float64"
      ]
     },
     "execution_count": 36,
     "metadata": {},
     "output_type": "execute_result"
    }
   ],
   "source": [
    "missing_data(fill_areaid2) #验证缺失部分剔除后数据是否有缺失值"
   ]
  },
  {
   "cell_type": "code",
   "execution_count": 37,
   "metadata": {},
   "outputs": [
    {
     "data": {
      "text/html": [
       "<div>\n",
       "<style scoped>\n",
       "    .dataframe tbody tr th:only-of-type {\n",
       "        vertical-align: middle;\n",
       "    }\n",
       "\n",
       "    .dataframe tbody tr th {\n",
       "        vertical-align: top;\n",
       "    }\n",
       "\n",
       "    .dataframe thead th {\n",
       "        text-align: right;\n",
       "    }\n",
       "</style>\n",
       "<table border=\"1\" class=\"dataframe\">\n",
       "  <thead>\n",
       "    <tr style=\"text-align: right;\">\n",
       "      <th></th>\n",
       "      <th>Priority</th>\n",
       "    </tr>\n",
       "  </thead>\n",
       "  <tbody>\n",
       "    <tr>\n",
       "      <th>Total</th>\n",
       "      <td>0</td>\n",
       "    </tr>\n",
       "    <tr>\n",
       "      <th>Percent</th>\n",
       "      <td>0</td>\n",
       "    </tr>\n",
       "    <tr>\n",
       "      <th>Types</th>\n",
       "      <td>float64</td>\n",
       "    </tr>\n",
       "  </tbody>\n",
       "</table>\n",
       "</div>"
      ],
      "text/plain": [
       "        Priority\n",
       "Total          0\n",
       "Percent        0\n",
       "Types    float64"
      ]
     },
     "execution_count": 37,
     "metadata": {},
     "output_type": "execute_result"
    }
   ],
   "source": [
    "missing_data(fill_priority2) #验证缺失部分剔除后数据是否有缺失值"
   ]
  },
  {
   "cell_type": "markdown",
   "metadata": {},
   "source": [
    "由上表看出，通过相关关系填补后数据后的数据没有缺失值"
   ]
  },
  {
   "cell_type": "code",
   "execution_count": 38,
   "metadata": {},
   "outputs": [
    {
     "data": {
      "text/html": [
       "<div>\n",
       "<style scoped>\n",
       "    .dataframe tbody tr th:only-of-type {\n",
       "        vertical-align: middle;\n",
       "    }\n",
       "\n",
       "    .dataframe tbody tr th {\n",
       "        vertical-align: top;\n",
       "    }\n",
       "\n",
       "    .dataframe thead th {\n",
       "        text-align: right;\n",
       "    }\n",
       "</style>\n",
       "<table border=\"1\" class=\"dataframe\">\n",
       "  <thead>\n",
       "    <tr style=\"text-align: right;\">\n",
       "      <th></th>\n",
       "      <th>Area Id</th>\n",
       "    </tr>\n",
       "  </thead>\n",
       "  <tbody>\n",
       "    <tr>\n",
       "      <th>count</th>\n",
       "      <td>180015.000000</td>\n",
       "    </tr>\n",
       "    <tr>\n",
       "      <th>mean</th>\n",
       "      <td>1.737089</td>\n",
       "    </tr>\n",
       "    <tr>\n",
       "      <th>std</th>\n",
       "      <td>0.746381</td>\n",
       "    </tr>\n",
       "    <tr>\n",
       "      <th>min</th>\n",
       "      <td>1.000000</td>\n",
       "    </tr>\n",
       "    <tr>\n",
       "      <th>25%</th>\n",
       "      <td>1.000000</td>\n",
       "    </tr>\n",
       "    <tr>\n",
       "      <th>50%</th>\n",
       "      <td>2.000000</td>\n",
       "    </tr>\n",
       "    <tr>\n",
       "      <th>75%</th>\n",
       "      <td>2.000000</td>\n",
       "    </tr>\n",
       "    <tr>\n",
       "      <th>max</th>\n",
       "      <td>3.000000</td>\n",
       "    </tr>\n",
       "  </tbody>\n",
       "</table>\n",
       "</div>"
      ],
      "text/plain": [
       "             Area Id\n",
       "count  180015.000000\n",
       "mean        1.737089\n",
       "std         0.746381\n",
       "min         1.000000\n",
       "25%         1.000000\n",
       "50%         2.000000\n",
       "75%         2.000000\n",
       "max         3.000000"
      ]
     },
     "execution_count": 38,
     "metadata": {},
     "output_type": "execute_result"
    }
   ],
   "source": [
    "fill_areaid2.describe() #缺失部分剔除后数据的5数概况"
   ]
  },
  {
   "cell_type": "code",
   "execution_count": 39,
   "metadata": {},
   "outputs": [
    {
     "data": {
      "text/html": [
       "<div>\n",
       "<style scoped>\n",
       "    .dataframe tbody tr th:only-of-type {\n",
       "        vertical-align: middle;\n",
       "    }\n",
       "\n",
       "    .dataframe tbody tr th {\n",
       "        vertical-align: top;\n",
       "    }\n",
       "\n",
       "    .dataframe thead th {\n",
       "        text-align: right;\n",
       "    }\n",
       "</style>\n",
       "<table border=\"1\" class=\"dataframe\">\n",
       "  <thead>\n",
       "    <tr style=\"text-align: right;\">\n",
       "      <th></th>\n",
       "      <th>Priority</th>\n",
       "    </tr>\n",
       "  </thead>\n",
       "  <tbody>\n",
       "    <tr>\n",
       "      <th>count</th>\n",
       "      <td>180015.000000</td>\n",
       "    </tr>\n",
       "    <tr>\n",
       "      <th>mean</th>\n",
       "      <td>1.796111</td>\n",
       "    </tr>\n",
       "    <tr>\n",
       "      <th>std</th>\n",
       "      <td>0.402916</td>\n",
       "    </tr>\n",
       "    <tr>\n",
       "      <th>min</th>\n",
       "      <td>0.000000</td>\n",
       "    </tr>\n",
       "    <tr>\n",
       "      <th>25%</th>\n",
       "      <td>2.000000</td>\n",
       "    </tr>\n",
       "    <tr>\n",
       "      <th>50%</th>\n",
       "      <td>2.000000</td>\n",
       "    </tr>\n",
       "    <tr>\n",
       "      <th>75%</th>\n",
       "      <td>2.000000</td>\n",
       "    </tr>\n",
       "    <tr>\n",
       "      <th>max</th>\n",
       "      <td>2.000000</td>\n",
       "    </tr>\n",
       "  </tbody>\n",
       "</table>\n",
       "</div>"
      ],
      "text/plain": [
       "            Priority\n",
       "count  180015.000000\n",
       "mean        1.796111\n",
       "std         0.402916\n",
       "min         0.000000\n",
       "25%         2.000000\n",
       "50%         2.000000\n",
       "75%         2.000000\n",
       "max         2.000000"
      ]
     },
     "execution_count": 39,
     "metadata": {},
     "output_type": "execute_result"
    }
   ],
   "source": [
    "fill_priority2.describe() #缺失部分剔除后数据的5数概况"
   ]
  },
  {
   "cell_type": "markdown",
   "metadata": {},
   "source": [
    "通过相关关系填补后\n",
    "\n",
    "Area Id:最大值3，最小值1，均值1.74，中位数2，四分位数[1,2,2],缺失值个数为0\n",
    "\n",
    "Priority:最大值2，最小值0，均值1.80，中位数2，四分位数[2,2,2],缺失值个数为0"
   ]
  },
  {
   "cell_type": "markdown",
   "metadata": {},
   "source": [
    "### 3.2.4 通过数据对象之间的相似性来填补缺失值"
   ]
  },
  {
   "cell_type": "code",
   "execution_count": 40,
   "metadata": {
    "scrolled": true
   },
   "outputs": [],
   "source": [
    "numeric_attr = ['Area Id','Priority']\n",
    "\n",
    "#查找两个对象间的相似性\n",
    "def find_dis_value(dataset, pos, column, numeric_attr):\n",
    "    def dis_objs(tar_obj, sou_obj):\n",
    "        dis_value = 0\n",
    "        count = 0\n",
    "        for column in tar_obj.index:\n",
    "            if tar_obj[column] != np.NaN and sou_obj[column] != np.NaN:\n",
    "                if column in numeric_attr:\n",
    "                        values_sort = dataset[column].dropna().values.sort()\n",
    "                        denominator = values_sort[-1] - values_sort[0]\n",
    "                        dis_value += abs(tar_obj[column] - sou_obj[column])/denominator\n",
    "                        count += 1\n",
    "\n",
    "                elif tar_obj[column] == sou_obj[column]:\n",
    "                    dis_value += 1\n",
    "                count += 1\n",
    "            else:\n",
    "                continue\n",
    "        return dis_value/count\n",
    "\n",
    "    mindis = 9999\n",
    "    result_pos = -1\n",
    "    target_obj = dataset.ix[pos]\n",
    "    for index in dataset.index:\n",
    "        if index == pos:\n",
    "            continue\n",
    "        source_obj = dataset.ix(index)\n",
    "        tmp = dis_objs(target_obj, source_obj)\n",
    "        if tmp < mindis:\n",
    "            result_pos = index\n",
    "    return result_pos\n",
    "\n",
    "# 通过数据对象之间的相似性来填补缺失值\n",
    "data = data_df['Area Id'].copy()\n",
    "for index, value in data.iteritems():\n",
    "    if value == np.NaN:\n",
    "        data[index] = data[find_dis_value(data_df, index, 'Area Id', numeric_attr)]\n"
   ]
  },
  {
   "cell_type": "code",
   "execution_count": 41,
   "metadata": {},
   "outputs": [
    {
     "data": {
      "text/plain": [
       "<function matplotlib.pyplot.show(*args, **kw)>"
      ]
     },
     "execution_count": 41,
     "metadata": {},
     "output_type": "execute_result"
    },
    {
     "data": {
      "image/png": "[encoded data removed]",
      "text/plain": [
       "<Figure size 720x720 with 3 Axes>"
      ]
     },
     "metadata": {},
     "output_type": "display_data"
    }
   ],
   "source": [
    "#绘制处理后数据的直方图、q-q图、盒图\n",
    "plt.figure(figsize=(10,10))\n",
    "\n",
    "#Area Id直方图\n",
    "plt.subplot(2,2,1)\n",
    "plt.title(\"Area Id直方图\")\n",
    "data.hist(bins=15)\n",
    "data_df['Area Id'].hist(bins=15)\n",
    "plt.legend(['new','old'])\n",
    "\n",
    "#Area Id q-q图\n",
    "plt.subplot(2,2,2)\n",
    "stats.probplot(data.dropna(), dist=\"norm\", plot=plt)\n",
    "\n",
    "#Area Id盒图\n",
    "plt.subplot(2,2,3)\n",
    "plt.title(\"Area Id盒图\")\n",
    "data.plot(kind='box', notch=True, grid=True)\n",
    "plt.show"
   ]
  },
  {
   "cell_type": "code",
   "execution_count": 42,
   "metadata": {},
   "outputs": [
    {
     "data": {
      "text/plain": [
       "count    179112.000000\n",
       "mean          1.740648\n",
       "std           0.746468\n",
       "min           1.000000\n",
       "25%           1.000000\n",
       "50%           2.000000\n",
       "75%           2.000000\n",
       "max           3.000000\n",
       "Name: Area Id, dtype: float64"
      ]
     },
     "execution_count": 42,
     "metadata": {},
     "output_type": "execute_result"
    }
   ],
   "source": [
    "data.describe()"
   ]
  },
  {
   "cell_type": "markdown",
   "metadata": {},
   "source": [
    "通过相似性填补后\n",
    "\n",
    "Area Id:最大值3，最小值1，均值1.74，中位数2，四分位数[1,2,2],缺失值个数为0"
   ]
  }
 ],
 "metadata": {
  "kernelspec": {
   "display_name": "Python 3",
   "language": "python",
   "name": "python3"
  },
  "language_info": {
   "codemirror_mode": {
    "name": "ipython",
    "version": 3
   },
   "file_extension": ".py",
   "mimetype": "text/x-python",
   "name": "python",
   "nbconvert_exporter": "python",
   "pygments_lexer": "ipython3",
   "version": "3.6.5"
  }
 },
 "nbformat": 4,
 "nbformat_minor": 2
}
