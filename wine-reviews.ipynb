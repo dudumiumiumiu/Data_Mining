{
 "cells": [
  {
   "cell_type": "markdown",
   "metadata": {},
   "source": [
    "# 数据挖掘作业一"
   ]
  },
  {
   "cell_type": "markdown",
   "metadata": {},
   "source": [
    "## 姓名：林宁       学号：3220190838"
   ]
  },
  {
   "cell_type": "markdown",
   "metadata": {},
   "source": [
    "数据集: Wine Reviews"
   ]
  },
  {
   "cell_type": "code",
   "execution_count": 1,
   "metadata": {},
   "outputs": [],
   "source": [
    "#导入必要的包\n",
    "import pandas as pd\n",
    "import numpy as np\n",
    "import matplotlib.pyplot as plt\n",
    "plt.rcParams['font.family'] = ['sans-serif']\n",
    "plt.rcParams['font.sans-serif'] = ['SimHei']\n",
    "plt.rcParams['axes.unicode_minus']=False\n",
    "from scipy import stats\n",
    "from collections import Counter\n",
    "from math import isnan"
   ]
  },
  {
   "cell_type": "code",
   "execution_count": 2,
   "metadata": {},
   "outputs": [],
   "source": [
    "#读取数据集\n",
    "path = \"./dataset/wine-reviews/\"\n",
    "data_df = pd.read_csv(path+'winemag-data_first150k.csv', index_col=0)"
   ]
  },
  {
   "cell_type": "code",
   "execution_count": 3,
   "metadata": {
    "scrolled": true
   },
   "outputs": [
    {
     "data": {
      "text/html": [
       "<div>\n",
       "<style scoped>\n",
       "    .dataframe tbody tr th:only-of-type {\n",
       "        vertical-align: middle;\n",
       "    }\n",
       "\n",
       "    .dataframe tbody tr th {\n",
       "        vertical-align: top;\n",
       "    }\n",
       "\n",
       "    .dataframe thead th {\n",
       "        text-align: right;\n",
       "    }\n",
       "</style>\n",
       "<table border=\"1\" class=\"dataframe\">\n",
       "  <thead>\n",
       "    <tr style=\"text-align: right;\">\n",
       "      <th></th>\n",
       "      <th>country</th>\n",
       "      <th>description</th>\n",
       "      <th>designation</th>\n",
       "      <th>points</th>\n",
       "      <th>price</th>\n",
       "      <th>province</th>\n",
       "      <th>region_1</th>\n",
       "      <th>region_2</th>\n",
       "      <th>variety</th>\n",
       "      <th>winery</th>\n",
       "    </tr>\n",
       "  </thead>\n",
       "  <tbody>\n",
       "    <tr>\n",
       "      <th>0</th>\n",
       "      <td>US</td>\n",
       "      <td>This tremendous 100% varietal wine hails from ...</td>\n",
       "      <td>Martha's Vineyard</td>\n",
       "      <td>96</td>\n",
       "      <td>235.0</td>\n",
       "      <td>California</td>\n",
       "      <td>Napa Valley</td>\n",
       "      <td>Napa</td>\n",
       "      <td>Cabernet Sauvignon</td>\n",
       "      <td>Heitz</td>\n",
       "    </tr>\n",
       "    <tr>\n",
       "      <th>1</th>\n",
       "      <td>Spain</td>\n",
       "      <td>Ripe aromas of fig, blackberry and cassis are ...</td>\n",
       "      <td>Carodorum Selección Especial Reserva</td>\n",
       "      <td>96</td>\n",
       "      <td>110.0</td>\n",
       "      <td>Northern Spain</td>\n",
       "      <td>Toro</td>\n",
       "      <td>NaN</td>\n",
       "      <td>Tinta de Toro</td>\n",
       "      <td>Bodega Carmen Rodríguez</td>\n",
       "    </tr>\n",
       "    <tr>\n",
       "      <th>2</th>\n",
       "      <td>US</td>\n",
       "      <td>Mac Watson honors the memory of a wine once ma...</td>\n",
       "      <td>Special Selected Late Harvest</td>\n",
       "      <td>96</td>\n",
       "      <td>90.0</td>\n",
       "      <td>California</td>\n",
       "      <td>Knights Valley</td>\n",
       "      <td>Sonoma</td>\n",
       "      <td>Sauvignon Blanc</td>\n",
       "      <td>Macauley</td>\n",
       "    </tr>\n",
       "    <tr>\n",
       "      <th>3</th>\n",
       "      <td>US</td>\n",
       "      <td>This spent 20 months in 30% new French oak, an...</td>\n",
       "      <td>Reserve</td>\n",
       "      <td>96</td>\n",
       "      <td>65.0</td>\n",
       "      <td>Oregon</td>\n",
       "      <td>Willamette Valley</td>\n",
       "      <td>Willamette Valley</td>\n",
       "      <td>Pinot Noir</td>\n",
       "      <td>Ponzi</td>\n",
       "    </tr>\n",
       "    <tr>\n",
       "      <th>4</th>\n",
       "      <td>France</td>\n",
       "      <td>This is the top wine from La Bégude, named aft...</td>\n",
       "      <td>La Brûlade</td>\n",
       "      <td>95</td>\n",
       "      <td>66.0</td>\n",
       "      <td>Provence</td>\n",
       "      <td>Bandol</td>\n",
       "      <td>NaN</td>\n",
       "      <td>Provence red blend</td>\n",
       "      <td>Domaine de la Bégude</td>\n",
       "    </tr>\n",
       "  </tbody>\n",
       "</table>\n",
       "</div>"
      ],
      "text/plain": [
       "  country                                        description  \\\n",
       "0      US  This tremendous 100% varietal wine hails from ...   \n",
       "1   Spain  Ripe aromas of fig, blackberry and cassis are ...   \n",
       "2      US  Mac Watson honors the memory of a wine once ma...   \n",
       "3      US  This spent 20 months in 30% new French oak, an...   \n",
       "4  France  This is the top wine from La Bégude, named aft...   \n",
       "\n",
       "                            designation  points  price        province  \\\n",
       "0                     Martha's Vineyard      96  235.0      California   \n",
       "1  Carodorum Selección Especial Reserva      96  110.0  Northern Spain   \n",
       "2         Special Selected Late Harvest      96   90.0      California   \n",
       "3                               Reserve      96   65.0          Oregon   \n",
       "4                            La Brûlade      95   66.0        Provence   \n",
       "\n",
       "            region_1           region_2             variety  \\\n",
       "0        Napa Valley               Napa  Cabernet Sauvignon   \n",
       "1               Toro                NaN       Tinta de Toro   \n",
       "2     Knights Valley             Sonoma     Sauvignon Blanc   \n",
       "3  Willamette Valley  Willamette Valley          Pinot Noir   \n",
       "4             Bandol                NaN  Provence red blend   \n",
       "\n",
       "                    winery  \n",
       "0                    Heitz  \n",
       "1  Bodega Carmen Rodríguez  \n",
       "2                 Macauley  \n",
       "3                    Ponzi  \n",
       "4     Domaine de la Bégude  "
      ]
     },
     "execution_count": 3,
     "metadata": {},
     "output_type": "execute_result"
    }
   ],
   "source": [
    "data_df.head() #数据集总览"
   ]
  },
  {
   "cell_type": "code",
   "execution_count": 4,
   "metadata": {},
   "outputs": [
    {
     "data": {
      "text/plain": [
       "country         object\n",
       "description     object\n",
       "designation     object\n",
       "points           int64\n",
       "price          float64\n",
       "province        object\n",
       "region_1        object\n",
       "region_2        object\n",
       "variety         object\n",
       "winery          object\n",
       "dtype: object"
      ]
     },
     "execution_count": 4,
     "metadata": {},
     "output_type": "execute_result"
    }
   ],
   "source": [
    "data_df.dtypes #每列数据类型"
   ]
  },
  {
   "cell_type": "code",
   "execution_count": 5,
   "metadata": {},
   "outputs": [
    {
     "data": {
      "text/plain": [
       "(150930, 10)"
      ]
     },
     "execution_count": 5,
     "metadata": {},
     "output_type": "execute_result"
    }
   ],
   "source": [
    "data_df.shape #数据集大小"
   ]
  },
  {
   "cell_type": "markdown",
   "metadata": {},
   "source": [
    "# 3 数据分析要求"
   ]
  },
  {
   "cell_type": "markdown",
   "metadata": {},
   "source": [
    "## 3.1 数据可视化和摘要"
   ]
  },
  {
   "cell_type": "markdown",
   "metadata": {},
   "source": [
    "### 3.1.1 数据摘要"
   ]
  },
  {
   "cell_type": "markdown",
   "metadata": {},
   "source": [
    "#### （1） 标称属性，给出每个可能聚会的频数"
   ]
  },
  {
   "cell_type": "markdown",
   "metadata": {},
   "source": [
    "该数据集存在'country','designation','province','region_1','region_2','variety','winery'七个标称属性"
   ]
  },
  {
   "cell_type": "markdown",
   "metadata": {},
   "source": [
    "通过函数value_counts() 来统计出所有标称属性所有取值的数量"
   ]
  },
  {
   "cell_type": "code",
   "execution_count": 6,
   "metadata": {
    "scrolled": true
   },
   "outputs": [
    {
     "data": {
      "text/plain": [
       "US                        62397\n",
       "Italy                     23478\n",
       "France                    21098\n",
       "Spain                      8268\n",
       "Chile                      5816\n",
       "Argentina                  5631\n",
       "Portugal                   5322\n",
       "Australia                  4957\n",
       "New Zealand                3320\n",
       "Austria                    3057\n",
       "Germany                    2452\n",
       "South Africa               2258\n",
       "Greece                      884\n",
       "Israel                      630\n",
       "Hungary                     231\n",
       "Canada                      196\n",
       "Romania                     139\n",
       "Slovenia                     94\n",
       "Uruguay                      92\n",
       "Croatia                      89\n",
       "Bulgaria                     77\n",
       "Moldova                      71\n",
       "Mexico                       63\n",
       "Turkey                       52\n",
       "Georgia                      43\n",
       "Lebanon                      37\n",
       "Cyprus                       31\n",
       "Brazil                       25\n",
       "Macedonia                    16\n",
       "Serbia                       14\n",
       "Morocco                      12\n",
       "England                       9\n",
       "Luxembourg                    9\n",
       "Lithuania                     8\n",
       "India                         8\n",
       "Czech Republic                6\n",
       "Ukraine                       5\n",
       "Switzerland                   4\n",
       "South Korea                   4\n",
       "Bosnia and Herzegovina        4\n",
       "China                         3\n",
       "Slovakia                      3\n",
       "Egypt                         3\n",
       "Tunisia                       2\n",
       "Albania                       2\n",
       "Japan                         2\n",
       "Montenegro                    2\n",
       "US-France                     1\n",
       "Name: country, dtype: int64"
      ]
     },
     "execution_count": 6,
     "metadata": {},
     "output_type": "execute_result"
    }
   ],
   "source": [
    "pd.value_counts(data_df['country'])"
   ]
  },
  {
   "cell_type": "code",
   "execution_count": 7,
   "metadata": {
    "scrolled": true
   },
   "outputs": [
    {
     "data": {
      "text/plain": [
       "Reserve                                      2752\n",
       "Reserva                                      1810\n",
       "Estate                                       1571\n",
       "Barrel sample                                1326\n",
       "Riserva                                       754\n",
       "Barrel Sample                                 639\n",
       "Brut                                          624\n",
       "Crianza                                       503\n",
       "Estate Grown                                  449\n",
       "Estate Bottled                                396\n",
       "Dry                                           374\n",
       "Old Vine                                      331\n",
       "Gran Reserva                                  330\n",
       "Brut Rosé                                     248\n",
       "Extra Dry                                     244\n",
       "Vieilles Vignes                               225\n",
       "Bien Nacido Vineyard                          195\n",
       "Rosé                                          180\n",
       "Late Bottled Vintage                          171\n",
       "Réserve                                       166\n",
       "Late Harvest                                  161\n",
       "Unoaked                                       161\n",
       "Vintage                                       152\n",
       "Barrel Select                                 145\n",
       "Single Vineyard                               144\n",
       "Tradition                                     141\n",
       "Grand Reserve                                 139\n",
       "Tinto                                         128\n",
       "Old Vines                                     127\n",
       "Classic                                       123\n",
       "                                             ... \n",
       "Somdinou Samsó Vinyes Velles                    1\n",
       "Bressandes Premier Cru                          1\n",
       "Particular Old Vine                             1\n",
       "Château Montus Prestige                         1\n",
       "Century Vine Reserve                            1\n",
       "Cuvee XXV                                       1\n",
       "The Vegan Vine                                  1\n",
       "Schanzäcker                                     1\n",
       "Kremser Tor Alte Reben Reserve                  1\n",
       "Seven Springs Vineyard Summum                   1\n",
       "Gastronome Premier Cru                          1\n",
       "Pimenta Preta                                   1\n",
       "Vila Santa Trincadeira                          1\n",
       "Mark V                                          1\n",
       "Ember                                           1\n",
       "La Mision Reserva                               1\n",
       "Viura Chardonnay                                1\n",
       "Ürziger Würzgarten Auslese *                    1\n",
       "étoile Brut                                     1\n",
       "Bodacious Brunette                              1\n",
       "Alfa Crux Red                                   1\n",
       "Albutom Vineyard Estate Grown                   1\n",
       "Sauvignon Blanc de la Chevalière                1\n",
       "Viña do Burato                                  1\n",
       "Cru Perdu Brut                                  1\n",
       "Tempranillo-Shiraz                              1\n",
       "MiP Made in Provence Classic                    1\n",
       "Las Cruces Single Vineyard Old Bush Vines       1\n",
       "Château Pêgau Cuvée Lône                        1\n",
       "Ltd. Reserve II                                 1\n",
       "Name: designation, Length: 30621, dtype: int64"
      ]
     },
     "execution_count": 7,
     "metadata": {},
     "output_type": "execute_result"
    }
   ],
   "source": [
    "pd.value_counts(data_df['designation'])"
   ]
  },
  {
   "cell_type": "code",
   "execution_count": 8,
   "metadata": {
    "scrolled": true
   },
   "outputs": [
    {
     "data": {
      "text/plain": [
       "California                                44508\n",
       "Washington                                 9750\n",
       "Tuscany                                    7281\n",
       "Bordeaux                                   6111\n",
       "Northern Spain                             4892\n",
       "Mendoza Province                           4742\n",
       "Oregon                                     4589\n",
       "Burgundy                                   4308\n",
       "Piedmont                                   4093\n",
       "Veneto                                     3962\n",
       "South Australia                            3004\n",
       "Sicily & Sardinia                          2545\n",
       "New York                                   2428\n",
       "Northeastern Italy                         1982\n",
       "Loire Valley                               1786\n",
       "Alsace                                     1680\n",
       "Marlborough                                1655\n",
       "Southwest France                           1601\n",
       "Central Italy                              1530\n",
       "Southern Italy                             1439\n",
       "Champagne                                  1370\n",
       "Catalonia                                  1352\n",
       "Rhône Valley                               1318\n",
       "Colchagua Valley                           1201\n",
       "Languedoc-Roussillon                       1082\n",
       "Douro                                      1075\n",
       "Provence                                   1021\n",
       "Port                                        903\n",
       "Maipo Valley                                895\n",
       "Other                                       889\n",
       "                                          ...  \n",
       "Langenlois                                    1\n",
       "Krania Olympus                                1\n",
       "Maipo Valley-Colchagua Valley                 1\n",
       "Central Otago-Marlborough                     1\n",
       "Neuchâtel                                     1\n",
       "Slovenska Istra                               1\n",
       "Limnos                                        1\n",
       "Serra do Sudeste                              1\n",
       "Ella Valley                                   1\n",
       "Vino da Tavola della Svizzera Italiana        1\n",
       "Morocco                                       1\n",
       "Santa Barbara County-Condrieu                 1\n",
       "Sterea Ellada                                 1\n",
       "Terasele Dunarii                              1\n",
       "Vale Trentino                                 1\n",
       "Nevada                                        1\n",
       "Central Greece                                1\n",
       "Elim                                          1\n",
       "Lemnos                                        1\n",
       "Zitsa                                         1\n",
       "Viile Timis                                   1\n",
       "Stirling                                      1\n",
       "Douro Superior                                1\n",
       "San Clemente                                  1\n",
       "Waitaki Valley                                1\n",
       "Viile Carasului                               1\n",
       "Pafos                                         1\n",
       "Dalmatian Coast                               1\n",
       "Valais                                        1\n",
       "Colchagua Costa                               1\n",
       "Name: province, Length: 455, dtype: int64"
      ]
     },
     "execution_count": 8,
     "metadata": {},
     "output_type": "execute_result"
    }
   ],
   "source": [
    "pd.value_counts(data_df['province'])"
   ]
  },
  {
   "cell_type": "code",
   "execution_count": 9,
   "metadata": {
    "scrolled": true
   },
   "outputs": [
    {
     "data": {
      "text/plain": [
       "Napa Valley                              6209\n",
       "Columbia Valley (WA)                     4975\n",
       "Mendoza                                  3586\n",
       "Russian River Valley                     3571\n",
       "California                               3462\n",
       "Paso Robles                              3053\n",
       "Willamette Valley                        2096\n",
       "Rioja                                    1893\n",
       "Toscana                                  1885\n",
       "Sonoma County                            1853\n",
       "Brunello di Montalcino                   1746\n",
       "Sicilia                                  1701\n",
       "Alsace                                   1574\n",
       "Sonoma Coast                             1473\n",
       "Carneros                                 1458\n",
       "Barolo                                   1398\n",
       "Dry Creek Valley                         1398\n",
       "Finger Lakes                             1372\n",
       "Champagne                                1369\n",
       "Santa Barbara County                     1319\n",
       "Walla Walla Valley (WA)                  1225\n",
       "Yakima Valley                            1162\n",
       "Alexander Valley                         1139\n",
       "Chianti Classico                         1029\n",
       "Sta. Rita Hills                           983\n",
       "Sonoma Valley                             971\n",
       "Santa Lucia Highlands                     962\n",
       "Central Coast                             950\n",
       "Ribera del Duero                          899\n",
       "Santa Ynez Valley                         898\n",
       "                                         ... \n",
       "Asprinio di Aversa                          1\n",
       "Coteaux Champenois                          1\n",
       "Stanislaus County                           1\n",
       "Bellarine Peninsula                         1\n",
       "Rosso di Cerignola                          1\n",
       "Geelong                                     1\n",
       "Côtes de Bordeaux Francs                    1\n",
       "Mazoyeres-Chambertin                        1\n",
       "Côtes du Roussillon Villages Caramany       1\n",
       "McLaren Vale-Langhorne Creek                1\n",
       "La Grande Rue                               1\n",
       "Toledo                                      1\n",
       "Civitella d'Agliano                         1\n",
       "Clairette de Die                            1\n",
       "Central Valley                              1\n",
       "Saint-Georges-Saint-Émilion                 1\n",
       "Cour-Cheverny                               1\n",
       "Assisi                                      1\n",
       "Vin de Pays des Côtes de Thongue            1\n",
       "Coteaux du Lyonnais                         1\n",
       "Musigny                                     1\n",
       "Sonoma-Santa Barbara-Mendocino              1\n",
       "Napa Valley-Paso Robles                     1\n",
       "El Pomar District                           1\n",
       "Paestum                                     1\n",
       "Listrac                                     1\n",
       "Mendocino-Amador-Napa                       1\n",
       "Coteaux du Languedoc-Pézenas                1\n",
       "Blanc Fumé de Pouilly                       1\n",
       "Prince Edward County                        1\n",
       "Name: region_1, Length: 1236, dtype: int64"
      ]
     },
     "execution_count": 9,
     "metadata": {},
     "output_type": "execute_result"
    }
   ],
   "source": [
    "pd.value_counts(data_df['region_1'])"
   ]
  },
  {
   "cell_type": "code",
   "execution_count": 10,
   "metadata": {
    "scrolled": true
   },
   "outputs": [
    {
     "data": {
      "text/plain": [
       "Central Coast              13057\n",
       "Sonoma                     11258\n",
       "Columbia Valley             9157\n",
       "Napa                        8801\n",
       "California Other            3516\n",
       "Willamette Valley           3181\n",
       "Mendocino/Lake Counties     2389\n",
       "Sierra Foothills            1660\n",
       "Napa-Sonoma                 1645\n",
       "Finger Lakes                1510\n",
       "Central Valley              1115\n",
       "Long Island                  771\n",
       "Southern Oregon              662\n",
       "Oregon Other                 661\n",
       "North Coast                  632\n",
       "Washington Other             593\n",
       "South Coast                  198\n",
       "New York Other               147\n",
       "Name: region_2, dtype: int64"
      ]
     },
     "execution_count": 10,
     "metadata": {},
     "output_type": "execute_result"
    }
   ],
   "source": [
    "pd.value_counts(data_df['region_2'])"
   ]
  },
  {
   "cell_type": "code",
   "execution_count": 11,
   "metadata": {
    "scrolled": true
   },
   "outputs": [
    {
     "data": {
      "text/plain": [
       "Chardonnay                       14482\n",
       "Pinot Noir                       14291\n",
       "Cabernet Sauvignon               12800\n",
       "Red Blend                        10062\n",
       "Bordeaux-style Red Blend          7347\n",
       "Sauvignon Blanc                   6320\n",
       "Syrah                             5825\n",
       "Riesling                          5524\n",
       "Merlot                            5070\n",
       "Zinfandel                         3799\n",
       "Sangiovese                        3345\n",
       "Malbec                            3208\n",
       "White Blend                       2824\n",
       "Rosé                              2817\n",
       "Tempranillo                       2556\n",
       "Nebbiolo                          2241\n",
       "Portuguese Red                    2216\n",
       "Sparkling Blend                   2004\n",
       "Shiraz                            1970\n",
       "Corvina, Rondinella, Molinara     1682\n",
       "Rhône-style Red Blend             1505\n",
       "Pinot Gris                        1365\n",
       "Barbera                           1365\n",
       "Cabernet Franc                    1363\n",
       "Sangiovese Grosso                 1346\n",
       "Pinot Grigio                      1305\n",
       "Viognier                          1263\n",
       "Bordeaux-style White Blend        1261\n",
       "Champagne Blend                   1238\n",
       "Port                              1058\n",
       "                                 ...  \n",
       "Baga-Touriga Nacional                1\n",
       "Dafni                                1\n",
       "Chardonelle                          1\n",
       "St. Vincent                          1\n",
       "Torontel                             1\n",
       "Romorantin                           1\n",
       "Viura-Sauvignon Blanc                1\n",
       "Karasakiz                            1\n",
       "Carnelian                            1\n",
       "Silvaner-Traminer                    1\n",
       "Albarossa                            1\n",
       "Carignan-Syrah                       1\n",
       "Chardonnay-Pinot Grigio              1\n",
       "Pinela                               1\n",
       "Chardonel                            1\n",
       "Muskat                               1\n",
       "Cococciola                           1\n",
       "Trousseau Gris                       1\n",
       "Huxelrebe                            1\n",
       "Caprettone                           1\n",
       "Moristel                             1\n",
       "Macabeo-Gewürztraminer               1\n",
       "Vitovska                             1\n",
       "Ugni Blanc                           1\n",
       "Rebula                               1\n",
       "Tinta Francisca                      1\n",
       "Jacquez                              1\n",
       "Syrah-Malbec                         1\n",
       "Sauvignon Musqué                     1\n",
       "Kuntra                               1\n",
       "Name: variety, Length: 632, dtype: int64"
      ]
     },
     "execution_count": 11,
     "metadata": {},
     "output_type": "execute_result"
    }
   ],
   "source": [
    "pd.value_counts(data_df['variety'])"
   ]
  },
  {
   "cell_type": "code",
   "execution_count": 12,
   "metadata": {
    "scrolled": true
   },
   "outputs": [
    {
     "data": {
      "text/plain": [
       "Williams Selyem                   374\n",
       "Testarossa                        274\n",
       "DFJ Vinhos                        258\n",
       "Chateau Ste. Michelle             225\n",
       "Columbia Crest                    217\n",
       "Concha y Toro                     216\n",
       "Kendall-Jackson                   216\n",
       "Trapiche                          205\n",
       "Bouchard Père & Fils              203\n",
       "Kenwood                           191\n",
       "De Loach                          189\n",
       "Joseph Drouhin                    189\n",
       "Georges Duboeuf                   188\n",
       "Cameron Hughes                    172\n",
       "Wines & Winemakers                169\n",
       "Albert Bichot                     167\n",
       "Robert Mondavi                    166\n",
       "Louis Latour                      154\n",
       "D'Arenberg                        153\n",
       "Morgan                            153\n",
       "Dry Creek Vineyard                153\n",
       "Concannon                         151\n",
       "Martin Ray                        149\n",
       "Errazuriz                         148\n",
       "Gary Farrell                      144\n",
       "L'Ecole No. 41                    144\n",
       "Olivier Leflaive                  143\n",
       "Waterbrook                        142\n",
       "Montes                            142\n",
       "Iron Horse                        142\n",
       "                                 ... \n",
       "21 Grams                            1\n",
       "White Knot                          1\n",
       "Château Woltner                     1\n",
       "Fiesta del Pomar Junction           1\n",
       "Des Amis                            1\n",
       "Chateau Mourgues du Gres            1\n",
       "Caliu                               1\n",
       "Lismore Range                       1\n",
       "Château Rocher-Bonregard            1\n",
       "Fat Croc                            1\n",
       "Château Bahans Haut-Brion           1\n",
       "Domaine Michel et Joanna Ecard      1\n",
       "Beldui                              1\n",
       "Domaine Machard de Gramont          1\n",
       "Limnos Wines                        1\n",
       "Agricola Uzzano                     1\n",
       "Concertum                           1\n",
       "Mueller Family Vineyards            1\n",
       "Dardano                             1\n",
       "Bacasis                             1\n",
       "Principessa Perlante                1\n",
       "Noval                               1\n",
       "Stevens Divio                       1\n",
       "Despierta                           1\n",
       "Cruzat                              1\n",
       "Canto et Fils                       1\n",
       "Vignobles Chaigne et Fils           1\n",
       "Vignobles Meijer                    1\n",
       "Bodegas Aletta                      1\n",
       "Johannes Deppisch                   1\n",
       "Name: winery, Length: 14810, dtype: int64"
      ]
     },
     "execution_count": 12,
     "metadata": {},
     "output_type": "execute_result"
    }
   ],
   "source": [
    "pd.value_counts(data_df['winery'])"
   ]
  },
  {
   "cell_type": "markdown",
   "metadata": {},
   "source": [
    "#### （2） 数值属性，给出5数概括及缺失值的个数"
   ]
  },
  {
   "cell_type": "code",
   "execution_count": 13,
   "metadata": {},
   "outputs": [
    {
     "data": {
      "text/plain": [
       "array([ 96,  95,  94,  90,  91,  86,  89,  88,  87,  93,  92,  85,  84,\n",
       "        83,  82,  81, 100,  99,  98,  97,  80], dtype=int64)"
      ]
     },
     "execution_count": 13,
     "metadata": {},
     "output_type": "execute_result"
    }
   ],
   "source": [
    "pd.unique(data_df['points'])  #查看points是否有缺失值"
   ]
  },
  {
   "cell_type": "markdown",
   "metadata": {},
   "source": [
    "points没有缺失值"
   ]
  },
  {
   "cell_type": "code",
   "execution_count": 14,
   "metadata": {
    "scrolled": true
   },
   "outputs": [
    {
     "data": {
      "text/plain": [
       "array([ 235.,  110.,   90.,   65.,   66.,   73.,   60.,   80.,   48.,\n",
       "        185.,  325.,  290.,   75.,   24.,   79.,  220.,   45.,   57.,\n",
       "         62.,  105.,   15.,   37.,   nan,   22.,   42.,  135.,   29.,\n",
       "         23.,   17.,   26.,   55.,   39.,   69.,   30.,   50.,   40.,\n",
       "        100.,   68.,   28.,   18.,   25.,   36.,   38.,   85.,   19.,\n",
       "         54.,   59.,   10.,   12.,   13.,   14.,   20.,  125.,    7.,\n",
       "         49.,   93.,   32.,   16.,   21.,   44.,   35.,   61.,   34.,\n",
       "         11.,   58.,  120.,   41.,  200.,   43.,    9.,   56.,   46.,\n",
       "         92.,   94.,   27.,   95.,   33.,   70.,  155.,   63.,  130.,\n",
       "        115.,   31.,   98.,   52.,   64.,   91.,  111.,   88.,   74.,\n",
       "         77.,   87.,  113.,  140.,  500.,   51.,  150.,  240.,   72.,\n",
       "        103.,    8.,  136.,  141.,  102.,   47.,   53.,   96.,   78.,\n",
       "        149.,  138.,  117.,    4.,   99.,  848.,  450.,  330.,  175.,\n",
       "         89.,   82.,   71.,  137.,  145.,  698.,  160.,  770.,  118.,\n",
       "        238.,  202.,  250.,  165.,   83.,  107.,   76.,   67.,  128.,\n",
       "        119.,  129.,  180.,    6.,  225.,    5.,  152.,   84.,   86.,\n",
       "        124.,   97.,  365.,  179.,  350.,  195.,  300.,  156.,  315.,\n",
       "        187.,  520.,  170.,  428.,  257.,  294.,  166.,  226.,  280.,\n",
       "        380.,  740.,  108.,  391.,  282.,  312.,  123.,  131.,  196.,\n",
       "        850.,  600.,  237.,  227.,  351.,  415., 1100.,  104.,  127.,\n",
       "        106.,  258.,  375.,  320.,  980.,  112.,  101.,  230.,  142.,\n",
       "        468.,  639.,  288.,  281.,  357.,  208.,  199.,  307.,  159.,\n",
       "        168.,  133.,  310.,  215.,  670.,  122.,  245.,  463.,  260.,\n",
       "       2013.,  239.,  400.,  269.,  214.,  625.,   81.,  270.,  345.,\n",
       "        316.,  205.,  410.,  275.,  126.,  764.,  190.,  153.,  183.,\n",
       "        212.,  167.,  169.,  285.,  279.,  249.,  299.,  229.,  360.,\n",
       "        460.,  800.,  139., 1400.,  385.,  390.,  252.,  109.,  154.,\n",
       "        134.,  295.,  445.,  612.,  271.,  228.,  448.,  292.,  440.,\n",
       "        376.,  231.,  114.,  349.,  399.,  163.,  210.,  116.,  151.,\n",
       "        148.,  162.,  191.,  173.,  318.,  550.,  510.,  660.,  685.,\n",
       "        182.,  775.,  323.,  419.,  132., 2300., 1900., 1300., 1200.,\n",
       "        236.,  412., 1000.,  545.,  243.,  143.,  426.,  588.,  204.,\n",
       "        265.,  158.,  174.,  247.,  164.,  430.,  194.,  261.,  147.,\n",
       "        451.,  574.,  544.,  273.,  189.,  317.,  248.,  177.,  176.,\n",
       "        144.,  197.,  157.,  289.,  505.,  198.,  146.,  411.,  757.,\n",
       "        259.,  535.,  328.,  206.,  216.,  354.,  495.,  193.,  525.,\n",
       "        256.,  475.,  398.,  530.,  181.,  255.,  420.,  266.,  121.,\n",
       "        246.,  599.,  178.,  335.,  900.,  222.,  171.,  486.,  203.,\n",
       "        395.,  303.,  319.,  268.,  211.,  467.,  293.,  224.,  283.,\n",
       "        596.,  253.,  455.,  580.,  184.,  172.,  217.])"
      ]
     },
     "execution_count": 14,
     "metadata": {},
     "output_type": "execute_result"
    }
   ],
   "source": [
    "pd.unique(data_df['price'])  #查看price是否有缺失值"
   ]
  },
  {
   "cell_type": "markdown",
   "metadata": {},
   "source": [
    "price有缺失值"
   ]
  },
  {
   "cell_type": "code",
   "execution_count": 15,
   "metadata": {},
   "outputs": [
    {
     "name": "stdout",
     "output_type": "stream",
     "text": [
      "The NULL value num of 'points' is: 0\n"
     ]
    }
   ],
   "source": [
    "#查看points缺失值个数\n",
    "print(\"The NULL value num of 'points' is:\",data_df['points'].isnull().sum()) "
   ]
  },
  {
   "cell_type": "code",
   "execution_count": 16,
   "metadata": {},
   "outputs": [
    {
     "name": "stdout",
     "output_type": "stream",
     "text": [
      "The NULL value num of 'price' is: 13695\n"
     ]
    }
   ],
   "source": [
    "#查看price缺失值个数\n",
    "print(\"The NULL value num of 'price' is:\",data_df['price'].isnull().sum())  "
   ]
  },
  {
   "cell_type": "code",
   "execution_count": 17,
   "metadata": {},
   "outputs": [
    {
     "data": {
      "text/html": [
       "<div>\n",
       "<style scoped>\n",
       "    .dataframe tbody tr th:only-of-type {\n",
       "        vertical-align: middle;\n",
       "    }\n",
       "\n",
       "    .dataframe tbody tr th {\n",
       "        vertical-align: top;\n",
       "    }\n",
       "\n",
       "    .dataframe thead th {\n",
       "        text-align: right;\n",
       "    }\n",
       "</style>\n",
       "<table border=\"1\" class=\"dataframe\">\n",
       "  <thead>\n",
       "    <tr style=\"text-align: right;\">\n",
       "      <th></th>\n",
       "      <th>points</th>\n",
       "      <th>price</th>\n",
       "    </tr>\n",
       "  </thead>\n",
       "  <tbody>\n",
       "    <tr>\n",
       "      <th>count</th>\n",
       "      <td>150930.000000</td>\n",
       "      <td>137235.000000</td>\n",
       "    </tr>\n",
       "    <tr>\n",
       "      <th>mean</th>\n",
       "      <td>87.888418</td>\n",
       "      <td>33.131482</td>\n",
       "    </tr>\n",
       "    <tr>\n",
       "      <th>std</th>\n",
       "      <td>3.222392</td>\n",
       "      <td>36.322536</td>\n",
       "    </tr>\n",
       "    <tr>\n",
       "      <th>min</th>\n",
       "      <td>80.000000</td>\n",
       "      <td>4.000000</td>\n",
       "    </tr>\n",
       "    <tr>\n",
       "      <th>25%</th>\n",
       "      <td>86.000000</td>\n",
       "      <td>16.000000</td>\n",
       "    </tr>\n",
       "    <tr>\n",
       "      <th>50%</th>\n",
       "      <td>88.000000</td>\n",
       "      <td>24.000000</td>\n",
       "    </tr>\n",
       "    <tr>\n",
       "      <th>75%</th>\n",
       "      <td>90.000000</td>\n",
       "      <td>40.000000</td>\n",
       "    </tr>\n",
       "    <tr>\n",
       "      <th>max</th>\n",
       "      <td>100.000000</td>\n",
       "      <td>2300.000000</td>\n",
       "    </tr>\n",
       "  </tbody>\n",
       "</table>\n",
       "</div>"
      ],
      "text/plain": [
       "              points          price\n",
       "count  150930.000000  137235.000000\n",
       "mean       87.888418      33.131482\n",
       "std         3.222392      36.322536\n",
       "min        80.000000       4.000000\n",
       "25%        86.000000      16.000000\n",
       "50%        88.000000      24.000000\n",
       "75%        90.000000      40.000000\n",
       "max       100.000000    2300.000000"
      ]
     },
     "execution_count": 17,
     "metadata": {},
     "output_type": "execute_result"
    }
   ],
   "source": [
    "# points,price 的5数概括\n",
    "number_data = ['points','price']\n",
    "data_df[number_data].describe()"
   ]
  },
  {
   "cell_type": "markdown",
   "metadata": {},
   "source": [
    "points:最大值100，最小值80，均值87.89，中位数88，四分位数[86,88,90],缺失值个数为0\n",
    "\n",
    "price:最大值2300，最小值4，均值33.13，中位数24，四分位数[16,24,40],缺失值个数为13695"
   ]
  },
  {
   "cell_type": "markdown",
   "metadata": {},
   "source": [
    "### 3.1.2 数据可视化(只针对数值型数据)"
   ]
  },
  {
   "cell_type": "markdown",
   "metadata": {},
   "source": [
    "#### 绘制points的直方图、q-q图、盒图"
   ]
  },
  {
   "cell_type": "code",
   "execution_count": 18,
   "metadata": {
    "scrolled": true
   },
   "outputs": [
    {
     "data": {
      "image/png": "[encoded data removed]",
      "text/plain": [
       "<Figure size 720x720 with 3 Axes>"
      ]
     },
     "metadata": {},
     "output_type": "display_data"
    }
   ],
   "source": [
    "plt.figure(figsize=(10, 10))\n",
    "#直方图\n",
    "plt.subplot(2,2,1)\n",
    "plt.title(\"points直方图\")\n",
    "data_df['points'].hist(alpha=0.5,bins=15)\n",
    "\n",
    "#q-q图\n",
    "plt.subplot(2,2,2)\n",
    "stats.probplot(data_df['points'],dist=\"norm\",plot=plt)\n",
    "\n",
    "#盒图\n",
    "plt.subplot(2,2,3)\n",
    "plt.title(\"points盒图\")\n",
    "data_df['points'].plot(kind='box', notch=True, grid=True)\n",
    "plt.show()"
   ]
  },
  {
   "cell_type": "markdown",
   "metadata": {},
   "source": [
    "#### 绘制price的直方图、q-q图、盒图"
   ]
  },
  {
   "cell_type": "code",
   "execution_count": 19,
   "metadata": {
    "scrolled": true
   },
   "outputs": [
    {
     "name": "stderr",
     "output_type": "stream",
     "text": [
      "E:\\Anaconda3\\lib\\site-packages\\scipy\\stats\\_distn_infrastructure.py:903: RuntimeWarning: invalid value encountered in greater\n",
      "  return (a < x) & (x < b)\n",
      "E:\\Anaconda3\\lib\\site-packages\\scipy\\stats\\_distn_infrastructure.py:903: RuntimeWarning: invalid value encountered in less\n",
      "  return (a < x) & (x < b)\n",
      "E:\\Anaconda3\\lib\\site-packages\\scipy\\stats\\_distn_infrastructure.py:1912: RuntimeWarning: invalid value encountered in less_equal\n",
      "  cond2 = cond0 & (x <= _a)\n"
     ]
    },
    {
     "data": {
      "image/png": "[encoded data removed]",
      "text/plain": [
       "<Figure size 720x720 with 4 Axes>"
      ]
     },
     "metadata": {},
     "output_type": "display_data"
    }
   ],
   "source": [
    "plt.figure(figsize=(10, 10))\n",
    "#直方图\n",
    "plt.subplot(2,2,1)\n",
    "plt.title(\"price直方图\")\n",
    "data_df['price'].hist(alpha=0.5,bins=15)\n",
    "        \n",
    "#q-q图\n",
    "plt.subplot(2,2,2)\n",
    "stats.probplot(data_df['price'],dist=\"norm\",plot=plt)\n",
    "\n",
    "#去除缺失值再绘制q-q图                 \n",
    "plt.subplot(2,2,3)\n",
    "data = pd.DataFrame(data_df['price'])\n",
    "data = data.dropna()\n",
    "stats.probplot(data['price'], dist=\"norm\", plot=plt)\n",
    "\n",
    "#盒图\n",
    "plt.subplot(2,2,4)\n",
    "plt.title(\"price盒图\")\n",
    "data_df['price'].plot(kind='box', notch=True, grid=True)\n",
    "plt.show()"
   ]
  },
  {
   "cell_type": "markdown",
   "metadata": {},
   "source": [
    "由直方图、q-q图、盒图可以得出：\n",
    "\n",
    "1.price属性分布不符合正态分布；\n",
    "\n",
    "2.points属性分布符合正太分布特征，但不是完全正太分布。"
   ]
  },
  {
   "cell_type": "markdown",
   "metadata": {},
   "source": [
    "## 3.2 数据缺失处理"
   ]
  },
  {
   "cell_type": "code",
   "execution_count": 20,
   "metadata": {},
   "outputs": [],
   "source": [
    "def missing_data(data):\n",
    "    total = data.isnull().sum()\n",
    "    percent = (data.isnull().sum()/data.isnull().count()*100)\n",
    "    tt = pd.concat([total, percent], axis=1, keys=['Total', 'Percent'])\n",
    "    types = []\n",
    "    for col in data.columns:\n",
    "        dtype = str(data[col].dtype)\n",
    "        types.append(dtype)\n",
    "    tt['Types'] = types\n",
    "    return(np.transpose(tt))"
   ]
  },
  {
   "cell_type": "code",
   "execution_count": 21,
   "metadata": {},
   "outputs": [
    {
     "data": {
      "text/html": [
       "<div>\n",
       "<style scoped>\n",
       "    .dataframe tbody tr th:only-of-type {\n",
       "        vertical-align: middle;\n",
       "    }\n",
       "\n",
       "    .dataframe tbody tr th {\n",
       "        vertical-align: top;\n",
       "    }\n",
       "\n",
       "    .dataframe thead th {\n",
       "        text-align: right;\n",
       "    }\n",
       "</style>\n",
       "<table border=\"1\" class=\"dataframe\">\n",
       "  <thead>\n",
       "    <tr style=\"text-align: right;\">\n",
       "      <th></th>\n",
       "      <th>country</th>\n",
       "      <th>description</th>\n",
       "      <th>designation</th>\n",
       "      <th>points</th>\n",
       "      <th>price</th>\n",
       "      <th>province</th>\n",
       "      <th>region_1</th>\n",
       "      <th>region_2</th>\n",
       "      <th>variety</th>\n",
       "      <th>winery</th>\n",
       "    </tr>\n",
       "  </thead>\n",
       "  <tbody>\n",
       "    <tr>\n",
       "      <th>Total</th>\n",
       "      <td>5</td>\n",
       "      <td>0</td>\n",
       "      <td>45735</td>\n",
       "      <td>0</td>\n",
       "      <td>13695</td>\n",
       "      <td>5</td>\n",
       "      <td>25060</td>\n",
       "      <td>89977</td>\n",
       "      <td>0</td>\n",
       "      <td>0</td>\n",
       "    </tr>\n",
       "    <tr>\n",
       "      <th>Percent</th>\n",
       "      <td>0.00331279</td>\n",
       "      <td>0</td>\n",
       "      <td>30.3021</td>\n",
       "      <td>0</td>\n",
       "      <td>9.07374</td>\n",
       "      <td>0.00331279</td>\n",
       "      <td>16.6037</td>\n",
       "      <td>59.6151</td>\n",
       "      <td>0</td>\n",
       "      <td>0</td>\n",
       "    </tr>\n",
       "    <tr>\n",
       "      <th>Types</th>\n",
       "      <td>object</td>\n",
       "      <td>object</td>\n",
       "      <td>object</td>\n",
       "      <td>int64</td>\n",
       "      <td>float64</td>\n",
       "      <td>object</td>\n",
       "      <td>object</td>\n",
       "      <td>object</td>\n",
       "      <td>object</td>\n",
       "      <td>object</td>\n",
       "    </tr>\n",
       "  </tbody>\n",
       "</table>\n",
       "</div>"
      ],
      "text/plain": [
       "            country description designation points    price    province  \\\n",
       "Total             5           0       45735      0    13695           5   \n",
       "Percent  0.00331279           0     30.3021      0  9.07374  0.00331279   \n",
       "Types        object      object      object  int64  float64      object   \n",
       "\n",
       "        region_1 region_2 variety  winery  \n",
       "Total      25060    89977       0       0  \n",
       "Percent  16.6037  59.6151       0       0  \n",
       "Types     object   object  object  object  "
      ]
     },
     "execution_count": 21,
     "metadata": {},
     "output_type": "execute_result"
    }
   ],
   "source": [
    "missing_data(data_df) #原始数据"
   ]
  },
  {
   "cell_type": "markdown",
   "metadata": {},
   "source": [
    "由上表可以看出，\n",
    "\n",
    "数值型数据 price 存在缺失值 \n",
    "\n",
    "标称型数据 country、designation、province、region_1、region_2 存在缺失值 "
   ]
  },
  {
   "cell_type": "markdown",
   "metadata": {},
   "source": [
    "### 3.2.1 将缺失部分剔除"
   ]
  },
  {
   "cell_type": "code",
   "execution_count": 22,
   "metadata": {},
   "outputs": [
    {
     "data": {
      "image/png": "[encoded data removed]",
      "text/plain": [
       "<Figure size 720x720 with 3 Axes>"
      ]
     },
     "metadata": {},
     "output_type": "display_data"
    }
   ],
   "source": [
    "#将缺失部分剔除\n",
    "del_df = data_df\n",
    "del_df = del_df.dropna()\n",
    "\n",
    "#绘制处理后数据的直方图、q-q图、盒图\n",
    "plt.figure(figsize=(10,10))\n",
    "#直方图\n",
    "plt.subplot(2,2,1)\n",
    "plt.title(\"price直方图\")\n",
    "del_df['price'].hist(alpha=0.5,bins=15)\n",
    "\n",
    "#q-q图\n",
    "plt.subplot(2,2,2)\n",
    "stats.probplot(del_df['price'],dist=\"norm\",plot=plt)\n",
    "\n",
    "#盒图\n",
    "plt.subplot(2,2,3)\n",
    "plt.title(\"price盒图\")\n",
    "del_df['price'].plot(kind='box', notch=True, grid=True)\n",
    "plt.show()"
   ]
  },
  {
   "cell_type": "code",
   "execution_count": 23,
   "metadata": {},
   "outputs": [
    {
     "data": {
      "text/html": [
       "<div>\n",
       "<style scoped>\n",
       "    .dataframe tbody tr th:only-of-type {\n",
       "        vertical-align: middle;\n",
       "    }\n",
       "\n",
       "    .dataframe tbody tr th {\n",
       "        vertical-align: top;\n",
       "    }\n",
       "\n",
       "    .dataframe thead th {\n",
       "        text-align: right;\n",
       "    }\n",
       "</style>\n",
       "<table border=\"1\" class=\"dataframe\">\n",
       "  <thead>\n",
       "    <tr style=\"text-align: right;\">\n",
       "      <th></th>\n",
       "      <th>country</th>\n",
       "      <th>description</th>\n",
       "      <th>designation</th>\n",
       "      <th>points</th>\n",
       "      <th>price</th>\n",
       "      <th>province</th>\n",
       "      <th>region_1</th>\n",
       "      <th>region_2</th>\n",
       "      <th>variety</th>\n",
       "      <th>winery</th>\n",
       "    </tr>\n",
       "  </thead>\n",
       "  <tbody>\n",
       "    <tr>\n",
       "      <th>Total</th>\n",
       "      <td>0</td>\n",
       "      <td>0</td>\n",
       "      <td>0</td>\n",
       "      <td>0</td>\n",
       "      <td>0</td>\n",
       "      <td>0</td>\n",
       "      <td>0</td>\n",
       "      <td>0</td>\n",
       "      <td>0</td>\n",
       "      <td>0</td>\n",
       "    </tr>\n",
       "    <tr>\n",
       "      <th>Percent</th>\n",
       "      <td>0</td>\n",
       "      <td>0</td>\n",
       "      <td>0</td>\n",
       "      <td>0</td>\n",
       "      <td>0</td>\n",
       "      <td>0</td>\n",
       "      <td>0</td>\n",
       "      <td>0</td>\n",
       "      <td>0</td>\n",
       "      <td>0</td>\n",
       "    </tr>\n",
       "    <tr>\n",
       "      <th>Types</th>\n",
       "      <td>object</td>\n",
       "      <td>object</td>\n",
       "      <td>object</td>\n",
       "      <td>int64</td>\n",
       "      <td>float64</td>\n",
       "      <td>object</td>\n",
       "      <td>object</td>\n",
       "      <td>object</td>\n",
       "      <td>object</td>\n",
       "      <td>object</td>\n",
       "    </tr>\n",
       "  </tbody>\n",
       "</table>\n",
       "</div>"
      ],
      "text/plain": [
       "        country description designation points    price province region_1  \\\n",
       "Total         0           0           0      0        0        0        0   \n",
       "Percent       0           0           0      0        0        0        0   \n",
       "Types    object      object      object  int64  float64   object   object   \n",
       "\n",
       "        region_2 variety  winery  \n",
       "Total          0       0       0  \n",
       "Percent        0       0       0  \n",
       "Types     object  object  object  "
      ]
     },
     "execution_count": 23,
     "metadata": {},
     "output_type": "execute_result"
    }
   ],
   "source": [
    "missing_data(del_df)    #验证缺失部分剔除后数据是否有缺失值"
   ]
  },
  {
   "cell_type": "markdown",
   "metadata": {},
   "source": [
    "由上表看出，缺失部分剔除后的数据没有缺失值"
   ]
  },
  {
   "cell_type": "code",
   "execution_count": 24,
   "metadata": {},
   "outputs": [
    {
     "data": {
      "text/html": [
       "<div>\n",
       "<style scoped>\n",
       "    .dataframe tbody tr th:only-of-type {\n",
       "        vertical-align: middle;\n",
       "    }\n",
       "\n",
       "    .dataframe tbody tr th {\n",
       "        vertical-align: top;\n",
       "    }\n",
       "\n",
       "    .dataframe thead th {\n",
       "        text-align: right;\n",
       "    }\n",
       "</style>\n",
       "<table border=\"1\" class=\"dataframe\">\n",
       "  <thead>\n",
       "    <tr style=\"text-align: right;\">\n",
       "      <th></th>\n",
       "      <th>price</th>\n",
       "    </tr>\n",
       "  </thead>\n",
       "  <tbody>\n",
       "    <tr>\n",
       "      <th>count</th>\n",
       "      <td>39241.000000</td>\n",
       "    </tr>\n",
       "    <tr>\n",
       "      <th>mean</th>\n",
       "      <td>37.546316</td>\n",
       "    </tr>\n",
       "    <tr>\n",
       "      <th>std</th>\n",
       "      <td>26.716547</td>\n",
       "    </tr>\n",
       "    <tr>\n",
       "      <th>min</th>\n",
       "      <td>4.000000</td>\n",
       "    </tr>\n",
       "    <tr>\n",
       "      <th>25%</th>\n",
       "      <td>22.000000</td>\n",
       "    </tr>\n",
       "    <tr>\n",
       "      <th>50%</th>\n",
       "      <td>32.000000</td>\n",
       "    </tr>\n",
       "    <tr>\n",
       "      <th>75%</th>\n",
       "      <td>45.000000</td>\n",
       "    </tr>\n",
       "    <tr>\n",
       "      <th>max</th>\n",
       "      <td>2013.000000</td>\n",
       "    </tr>\n",
       "  </tbody>\n",
       "</table>\n",
       "</div>"
      ],
      "text/plain": [
       "              price\n",
       "count  39241.000000\n",
       "mean      37.546316\n",
       "std       26.716547\n",
       "min        4.000000\n",
       "25%       22.000000\n",
       "50%       32.000000\n",
       "75%       45.000000\n",
       "max     2013.000000"
      ]
     },
     "execution_count": 24,
     "metadata": {},
     "output_type": "execute_result"
    }
   ],
   "source": [
    "del_df[['price']].describe()#缺失部分剔除后数据的5数概况"
   ]
  },
  {
   "cell_type": "markdown",
   "metadata": {},
   "source": [
    "缺失部分剔除后"
   ]
  },
  {
   "cell_type": "markdown",
   "metadata": {},
   "source": [
    "price:最大值2013，最小值4，均值37.55，中位数32，四分位数[22,32,45],缺失值个数为0"
   ]
  },
  {
   "cell_type": "markdown",
   "metadata": {},
   "source": [
    "### 3.2.2 用最高频率值来填补缺失值"
   ]
  },
  {
   "cell_type": "code",
   "execution_count": 25,
   "metadata": {},
   "outputs": [
    {
     "name": "stdout",
     "output_type": "stream",
     "text": [
      "US <class 'str'>\n",
      "Reserve <class 'str'>\n",
      "20.0 <class 'float'>\n",
      "California <class 'str'>\n",
      "Napa Valley <class 'str'>\n",
      "Central Coast <class 'str'>\n"
     ]
    },
    {
     "data": {
      "text/html": [
       "<div>\n",
       "<style scoped>\n",
       "    .dataframe tbody tr th:only-of-type {\n",
       "        vertical-align: middle;\n",
       "    }\n",
       "\n",
       "    .dataframe tbody tr th {\n",
       "        vertical-align: top;\n",
       "    }\n",
       "\n",
       "    .dataframe thead th {\n",
       "        text-align: right;\n",
       "    }\n",
       "</style>\n",
       "<table border=\"1\" class=\"dataframe\">\n",
       "  <thead>\n",
       "    <tr style=\"text-align: right;\">\n",
       "      <th></th>\n",
       "      <th>country</th>\n",
       "      <th>description</th>\n",
       "      <th>designation</th>\n",
       "      <th>points</th>\n",
       "      <th>price</th>\n",
       "      <th>province</th>\n",
       "      <th>region_1</th>\n",
       "      <th>region_2</th>\n",
       "      <th>variety</th>\n",
       "      <th>winery</th>\n",
       "    </tr>\n",
       "  </thead>\n",
       "  <tbody>\n",
       "    <tr>\n",
       "      <th>0</th>\n",
       "      <td>US</td>\n",
       "      <td>This tremendous 100% varietal wine hails from ...</td>\n",
       "      <td>Martha's Vineyard</td>\n",
       "      <td>96</td>\n",
       "      <td>235.0</td>\n",
       "      <td>California</td>\n",
       "      <td>Napa Valley</td>\n",
       "      <td>Napa</td>\n",
       "      <td>Cabernet Sauvignon</td>\n",
       "      <td>Heitz</td>\n",
       "    </tr>\n",
       "    <tr>\n",
       "      <th>1</th>\n",
       "      <td>Spain</td>\n",
       "      <td>Ripe aromas of fig, blackberry and cassis are ...</td>\n",
       "      <td>Carodorum Selección Especial Reserva</td>\n",
       "      <td>96</td>\n",
       "      <td>110.0</td>\n",
       "      <td>Northern Spain</td>\n",
       "      <td>Toro</td>\n",
       "      <td>Central Coast</td>\n",
       "      <td>Tinta de Toro</td>\n",
       "      <td>Bodega Carmen Rodríguez</td>\n",
       "    </tr>\n",
       "    <tr>\n",
       "      <th>2</th>\n",
       "      <td>US</td>\n",
       "      <td>Mac Watson honors the memory of a wine once ma...</td>\n",
       "      <td>Special Selected Late Harvest</td>\n",
       "      <td>96</td>\n",
       "      <td>90.0</td>\n",
       "      <td>California</td>\n",
       "      <td>Knights Valley</td>\n",
       "      <td>Sonoma</td>\n",
       "      <td>Sauvignon Blanc</td>\n",
       "      <td>Macauley</td>\n",
       "    </tr>\n",
       "    <tr>\n",
       "      <th>3</th>\n",
       "      <td>US</td>\n",
       "      <td>This spent 20 months in 30% new French oak, an...</td>\n",
       "      <td>Reserve</td>\n",
       "      <td>96</td>\n",
       "      <td>65.0</td>\n",
       "      <td>Oregon</td>\n",
       "      <td>Willamette Valley</td>\n",
       "      <td>Willamette Valley</td>\n",
       "      <td>Pinot Noir</td>\n",
       "      <td>Ponzi</td>\n",
       "    </tr>\n",
       "    <tr>\n",
       "      <th>4</th>\n",
       "      <td>France</td>\n",
       "      <td>This is the top wine from La Bégude, named aft...</td>\n",
       "      <td>La Brûlade</td>\n",
       "      <td>95</td>\n",
       "      <td>66.0</td>\n",
       "      <td>Provence</td>\n",
       "      <td>Bandol</td>\n",
       "      <td>Central Coast</td>\n",
       "      <td>Provence red blend</td>\n",
       "      <td>Domaine de la Bégude</td>\n",
       "    </tr>\n",
       "  </tbody>\n",
       "</table>\n",
       "</div>"
      ],
      "text/plain": [
       "  country                                        description  \\\n",
       "0      US  This tremendous 100% varietal wine hails from ...   \n",
       "1   Spain  Ripe aromas of fig, blackberry and cassis are ...   \n",
       "2      US  Mac Watson honors the memory of a wine once ma...   \n",
       "3      US  This spent 20 months in 30% new French oak, an...   \n",
       "4  France  This is the top wine from La Bégude, named aft...   \n",
       "\n",
       "                            designation  points  price        province  \\\n",
       "0                     Martha's Vineyard      96  235.0      California   \n",
       "1  Carodorum Selección Especial Reserva      96  110.0  Northern Spain   \n",
       "2         Special Selected Late Harvest      96   90.0      California   \n",
       "3                               Reserve      96   65.0          Oregon   \n",
       "4                            La Brûlade      95   66.0        Provence   \n",
       "\n",
       "            region_1           region_2             variety  \\\n",
       "0        Napa Valley               Napa  Cabernet Sauvignon   \n",
       "1               Toro      Central Coast       Tinta de Toro   \n",
       "2     Knights Valley             Sonoma     Sauvignon Blanc   \n",
       "3  Willamette Valley  Willamette Valley          Pinot Noir   \n",
       "4             Bandol      Central Coast  Provence red blend   \n",
       "\n",
       "                    winery  \n",
       "0                    Heitz  \n",
       "1  Bodega Carmen Rodríguez  \n",
       "2                 Macauley  \n",
       "3                    Ponzi  \n",
       "4     Domaine de la Bégude  "
      ]
     },
     "execution_count": 25,
     "metadata": {},
     "output_type": "execute_result"
    }
   ],
   "source": [
    "# 用最高频率值来填补缺失值\n",
    "fill_df = data_df\n",
    "miss_features = ['country','designation','price','province','region_1','region_2']\n",
    "\n",
    "for col in miss_features:\n",
    "    word_counts = Counter(fill_df[col])\n",
    "    top = word_counts.most_common(1)[0][0]\n",
    "    if type(top) != str:\n",
    "        if isnan(top):\n",
    "            top = word_counts.most_common(2)[1][0]\n",
    "    print(top, type(top))\n",
    "    temp = fill_df[col].fillna(top)\n",
    "    fill_df[col] = temp\n",
    "fill_df.head()"
   ]
  },
  {
   "cell_type": "code",
   "execution_count": 26,
   "metadata": {},
   "outputs": [
    {
     "data": {
      "image/png": "[encoded data removed]",
      "text/plain": [
       "<Figure size 720x720 with 3 Axes>"
      ]
     },
     "metadata": {},
     "output_type": "display_data"
    }
   ],
   "source": [
    "path = \"./dataset/wine-reviews/\"\n",
    "data_df = pd.read_csv(path+'winemag-data_first150k.csv', index_col=0)\n",
    "\n",
    "#绘制处理后数据的直方图、q-q图、盒图\n",
    "plt.figure(figsize=(10,10))\n",
    "#直方图\n",
    "plt.subplot(2,2,1)\n",
    "plt.title(\"price直方图\")\n",
    "fill_df['price'].hist(bins=15)\n",
    "data_df['price'].hist(bins=15)\n",
    "plt.legend(['new','old'])\n",
    "\n",
    "#q-q图\n",
    "plt.subplot(2,2,2)\n",
    "stats.probplot(fill_df['price'], dist=\"norm\", plot=plt)\n",
    "\n",
    "#盒图\n",
    "plt.subplot(2,2,3)\n",
    "plt.title(\"price盒图\")\n",
    "fill_df['price'].plot(kind='box', notch=True, grid=True)\n",
    "plt.show()"
   ]
  },
  {
   "cell_type": "code",
   "execution_count": 27,
   "metadata": {},
   "outputs": [
    {
     "data": {
      "text/html": [
       "<div>\n",
       "<style scoped>\n",
       "    .dataframe tbody tr th:only-of-type {\n",
       "        vertical-align: middle;\n",
       "    }\n",
       "\n",
       "    .dataframe tbody tr th {\n",
       "        vertical-align: top;\n",
       "    }\n",
       "\n",
       "    .dataframe thead th {\n",
       "        text-align: right;\n",
       "    }\n",
       "</style>\n",
       "<table border=\"1\" class=\"dataframe\">\n",
       "  <thead>\n",
       "    <tr style=\"text-align: right;\">\n",
       "      <th></th>\n",
       "      <th>country</th>\n",
       "      <th>description</th>\n",
       "      <th>designation</th>\n",
       "      <th>points</th>\n",
       "      <th>price</th>\n",
       "      <th>province</th>\n",
       "      <th>region_1</th>\n",
       "      <th>region_2</th>\n",
       "      <th>variety</th>\n",
       "      <th>winery</th>\n",
       "    </tr>\n",
       "  </thead>\n",
       "  <tbody>\n",
       "    <tr>\n",
       "      <th>Total</th>\n",
       "      <td>0</td>\n",
       "      <td>0</td>\n",
       "      <td>0</td>\n",
       "      <td>0</td>\n",
       "      <td>0</td>\n",
       "      <td>0</td>\n",
       "      <td>0</td>\n",
       "      <td>0</td>\n",
       "      <td>0</td>\n",
       "      <td>0</td>\n",
       "    </tr>\n",
       "    <tr>\n",
       "      <th>Percent</th>\n",
       "      <td>0</td>\n",
       "      <td>0</td>\n",
       "      <td>0</td>\n",
       "      <td>0</td>\n",
       "      <td>0</td>\n",
       "      <td>0</td>\n",
       "      <td>0</td>\n",
       "      <td>0</td>\n",
       "      <td>0</td>\n",
       "      <td>0</td>\n",
       "    </tr>\n",
       "    <tr>\n",
       "      <th>Types</th>\n",
       "      <td>object</td>\n",
       "      <td>object</td>\n",
       "      <td>object</td>\n",
       "      <td>int64</td>\n",
       "      <td>float64</td>\n",
       "      <td>object</td>\n",
       "      <td>object</td>\n",
       "      <td>object</td>\n",
       "      <td>object</td>\n",
       "      <td>object</td>\n",
       "    </tr>\n",
       "  </tbody>\n",
       "</table>\n",
       "</div>"
      ],
      "text/plain": [
       "        country description designation points    price province region_1  \\\n",
       "Total         0           0           0      0        0        0        0   \n",
       "Percent       0           0           0      0        0        0        0   \n",
       "Types    object      object      object  int64  float64   object   object   \n",
       "\n",
       "        region_2 variety  winery  \n",
       "Total          0       0       0  \n",
       "Percent        0       0       0  \n",
       "Types     object  object  object  "
      ]
     },
     "execution_count": 27,
     "metadata": {},
     "output_type": "execute_result"
    }
   ],
   "source": [
    "missing_data(fill_df)  #验证用高频数据填补后数据是否有缺失值"
   ]
  },
  {
   "cell_type": "markdown",
   "metadata": {},
   "source": [
    "由上表看出，用高频数据填补后数据后的数据没有缺失值"
   ]
  },
  {
   "cell_type": "code",
   "execution_count": 28,
   "metadata": {},
   "outputs": [
    {
     "data": {
      "text/html": [
       "<div>\n",
       "<style scoped>\n",
       "    .dataframe tbody tr th:only-of-type {\n",
       "        vertical-align: middle;\n",
       "    }\n",
       "\n",
       "    .dataframe tbody tr th {\n",
       "        vertical-align: top;\n",
       "    }\n",
       "\n",
       "    .dataframe thead th {\n",
       "        text-align: right;\n",
       "    }\n",
       "</style>\n",
       "<table border=\"1\" class=\"dataframe\">\n",
       "  <thead>\n",
       "    <tr style=\"text-align: right;\">\n",
       "      <th></th>\n",
       "      <th>price</th>\n",
       "    </tr>\n",
       "  </thead>\n",
       "  <tbody>\n",
       "    <tr>\n",
       "      <th>count</th>\n",
       "      <td>150930.000000</td>\n",
       "    </tr>\n",
       "    <tr>\n",
       "      <th>mean</th>\n",
       "      <td>31.939966</td>\n",
       "    </tr>\n",
       "    <tr>\n",
       "      <th>std</th>\n",
       "      <td>34.840211</td>\n",
       "    </tr>\n",
       "    <tr>\n",
       "      <th>min</th>\n",
       "      <td>4.000000</td>\n",
       "    </tr>\n",
       "    <tr>\n",
       "      <th>25%</th>\n",
       "      <td>16.000000</td>\n",
       "    </tr>\n",
       "    <tr>\n",
       "      <th>50%</th>\n",
       "      <td>22.000000</td>\n",
       "    </tr>\n",
       "    <tr>\n",
       "      <th>75%</th>\n",
       "      <td>38.000000</td>\n",
       "    </tr>\n",
       "    <tr>\n",
       "      <th>max</th>\n",
       "      <td>2300.000000</td>\n",
       "    </tr>\n",
       "  </tbody>\n",
       "</table>\n",
       "</div>"
      ],
      "text/plain": [
       "               price\n",
       "count  150930.000000\n",
       "mean       31.939966\n",
       "std        34.840211\n",
       "min         4.000000\n",
       "25%        16.000000\n",
       "50%        22.000000\n",
       "75%        38.000000\n",
       "max      2300.000000"
      ]
     },
     "execution_count": 28,
     "metadata": {},
     "output_type": "execute_result"
    }
   ],
   "source": [
    "fill_df[['price']].describe()  #用高频数据填补后数据的5数概况"
   ]
  },
  {
   "cell_type": "markdown",
   "metadata": {},
   "source": [
    "用高频数据填补后"
   ]
  },
  {
   "cell_type": "markdown",
   "metadata": {},
   "source": [
    "price:最大值2300，最小值4，均值31.94，中位数22，四分位数[16,22,38],缺失值个数为0"
   ]
  },
  {
   "cell_type": "markdown",
   "metadata": {},
   "source": [
    "### 3.2.3 通过属性的相关关系来填补缺失值"
   ]
  },
  {
   "cell_type": "code",
   "execution_count": 29,
   "metadata": {},
   "outputs": [
    {
     "data": {
      "text/html": [
       "<div>\n",
       "<style scoped>\n",
       "    .dataframe tbody tr th:only-of-type {\n",
       "        vertical-align: middle;\n",
       "    }\n",
       "\n",
       "    .dataframe tbody tr th {\n",
       "        vertical-align: top;\n",
       "    }\n",
       "\n",
       "    .dataframe thead th {\n",
       "        text-align: right;\n",
       "    }\n",
       "</style>\n",
       "<table border=\"1\" class=\"dataframe\">\n",
       "  <thead>\n",
       "    <tr style=\"text-align: right;\">\n",
       "      <th></th>\n",
       "      <th>points</th>\n",
       "      <th>price</th>\n",
       "    </tr>\n",
       "  </thead>\n",
       "  <tbody>\n",
       "    <tr>\n",
       "      <th>points</th>\n",
       "      <td>1.000000</td>\n",
       "      <td>0.459863</td>\n",
       "    </tr>\n",
       "    <tr>\n",
       "      <th>price</th>\n",
       "      <td>0.459863</td>\n",
       "      <td>1.000000</td>\n",
       "    </tr>\n",
       "  </tbody>\n",
       "</table>\n",
       "</div>"
      ],
      "text/plain": [
       "          points     price\n",
       "points  1.000000  0.459863\n",
       "price   0.459863  1.000000"
      ]
     },
     "execution_count": 29,
     "metadata": {},
     "output_type": "execute_result"
    }
   ],
   "source": [
    "data_df.corr()"
   ]
  },
  {
   "cell_type": "code",
   "execution_count": 30,
   "metadata": {
    "scrolled": false
   },
   "outputs": [],
   "source": [
    "#通过属性的相关关系来填补缺失值\n",
    "target_data = data_df['price']\n",
    "source_data = data_df['points']\n",
    "flag1 = target_data.isnull().values\n",
    "flag2 = source_data.isnull().values\n",
    "complete_data = target_data.copy()\n",
    "i=0\n",
    "for _, value in target_data.iteritems():    \n",
    "    if (flag1[i] == True)and(flag2[i] == False):\n",
    "        complete_data[i] = 104 - source_data[i]\n",
    "    i=i+1\n",
    "values_clean = list(complete_data.dropna().values)\n",
    "\n",
    "# 去除频率为1的值\n",
    "#for value, count in complete_data.value_counts().iteritems():\n",
    "    #if count == 1:\n",
    "     #   values_clean.remove(value)"
   ]
  },
  {
   "cell_type": "code",
   "execution_count": 31,
   "metadata": {},
   "outputs": [
    {
     "data": {
      "image/png": "[encoded data removed]",
      "text/plain": [
       "<Figure size 720x720 with 3 Axes>"
      ]
     },
     "metadata": {},
     "output_type": "display_data"
    }
   ],
   "source": [
    "#绘制处理后数据的直方图、q-q图、盒图\n",
    "fill_price2 = pd.DataFrame(values_clean,columns=['price'])\n",
    "plt.figure(figsize=(10,10))\n",
    "#直方图\n",
    "plt.subplot(2,2,1)\n",
    "plt.title(\"price直方图\")\n",
    "fill_price2['price'].hist(bins=15)\n",
    "data_df['price'].hist(bins=15)\n",
    "plt.legend(['new','old'])\n",
    "\n",
    "#q-q图\n",
    "plt.subplot(2,2,2)\n",
    "stats.probplot(fill_price2['price'], dist=\"norm\", plot=plt)\n",
    "\n",
    "\n",
    "#盒图\n",
    "plt.subplot(2,2,3)\n",
    "plt.title(\"price盒图\")\n",
    "fill_price2['price'].plot(kind='box', notch=True, grid=True)\n",
    "\n",
    "plt.show()"
   ]
  },
  {
   "cell_type": "code",
   "execution_count": 32,
   "metadata": {},
   "outputs": [
    {
     "data": {
      "text/html": [
       "<div>\n",
       "<style scoped>\n",
       "    .dataframe tbody tr th:only-of-type {\n",
       "        vertical-align: middle;\n",
       "    }\n",
       "\n",
       "    .dataframe tbody tr th {\n",
       "        vertical-align: top;\n",
       "    }\n",
       "\n",
       "    .dataframe thead th {\n",
       "        text-align: right;\n",
       "    }\n",
       "</style>\n",
       "<table border=\"1\" class=\"dataframe\">\n",
       "  <thead>\n",
       "    <tr style=\"text-align: right;\">\n",
       "      <th></th>\n",
       "      <th>price</th>\n",
       "    </tr>\n",
       "  </thead>\n",
       "  <tbody>\n",
       "    <tr>\n",
       "      <th>Total</th>\n",
       "      <td>0</td>\n",
       "    </tr>\n",
       "    <tr>\n",
       "      <th>Percent</th>\n",
       "      <td>0</td>\n",
       "    </tr>\n",
       "    <tr>\n",
       "      <th>Types</th>\n",
       "      <td>float64</td>\n",
       "    </tr>\n",
       "  </tbody>\n",
       "</table>\n",
       "</div>"
      ],
      "text/plain": [
       "           price\n",
       "Total          0\n",
       "Percent        0\n",
       "Types    float64"
      ]
     },
     "execution_count": 32,
     "metadata": {},
     "output_type": "execute_result"
    }
   ],
   "source": [
    "missing_data(fill_price2)  #验证通过相关关系填补后数据是否有缺失值"
   ]
  },
  {
   "cell_type": "markdown",
   "metadata": {},
   "source": [
    "由上表看出，通过相关关系填补后数据后的数据没有缺失值"
   ]
  },
  {
   "cell_type": "code",
   "execution_count": 33,
   "metadata": {},
   "outputs": [
    {
     "data": {
      "text/html": [
       "<div>\n",
       "<style scoped>\n",
       "    .dataframe tbody tr th:only-of-type {\n",
       "        vertical-align: middle;\n",
       "    }\n",
       "\n",
       "    .dataframe tbody tr th {\n",
       "        vertical-align: top;\n",
       "    }\n",
       "\n",
       "    .dataframe thead th {\n",
       "        text-align: right;\n",
       "    }\n",
       "</style>\n",
       "<table border=\"1\" class=\"dataframe\">\n",
       "  <thead>\n",
       "    <tr style=\"text-align: right;\">\n",
       "      <th></th>\n",
       "      <th>price</th>\n",
       "    </tr>\n",
       "  </thead>\n",
       "  <tbody>\n",
       "    <tr>\n",
       "      <th>count</th>\n",
       "      <td>150930.00000</td>\n",
       "    </tr>\n",
       "    <tr>\n",
       "      <th>mean</th>\n",
       "      <td>31.49576</td>\n",
       "    </tr>\n",
       "    <tr>\n",
       "      <th>std</th>\n",
       "      <td>35.03242</td>\n",
       "    </tr>\n",
       "    <tr>\n",
       "      <th>min</th>\n",
       "      <td>4.00000</td>\n",
       "    </tr>\n",
       "    <tr>\n",
       "      <th>25%</th>\n",
       "      <td>15.00000</td>\n",
       "    </tr>\n",
       "    <tr>\n",
       "      <th>50%</th>\n",
       "      <td>22.00000</td>\n",
       "    </tr>\n",
       "    <tr>\n",
       "      <th>75%</th>\n",
       "      <td>38.00000</td>\n",
       "    </tr>\n",
       "    <tr>\n",
       "      <th>max</th>\n",
       "      <td>2300.00000</td>\n",
       "    </tr>\n",
       "  </tbody>\n",
       "</table>\n",
       "</div>"
      ],
      "text/plain": [
       "              price\n",
       "count  150930.00000\n",
       "mean       31.49576\n",
       "std        35.03242\n",
       "min         4.00000\n",
       "25%        15.00000\n",
       "50%        22.00000\n",
       "75%        38.00000\n",
       "max      2300.00000"
      ]
     },
     "execution_count": 33,
     "metadata": {},
     "output_type": "execute_result"
    }
   ],
   "source": [
    "fill_price2.describe()  #通过相关关系填补后数据的5数概况"
   ]
  },
  {
   "cell_type": "markdown",
   "metadata": {},
   "source": [
    "通过相关关系填补后"
   ]
  },
  {
   "cell_type": "markdown",
   "metadata": {},
   "source": [
    "price:最大值2300，最小值4，均值31.50，中位数22，四分位数[15,22,38],缺失值个数为0"
   ]
  },
  {
   "cell_type": "markdown",
   "metadata": {},
   "source": [
    "### 3.2.4 通过数据对象之间的相似性来填补缺失值"
   ]
  },
  {
   "cell_type": "code",
   "execution_count": 34,
   "metadata": {},
   "outputs": [],
   "source": [
    "numeric_attr = ['price','points']\n",
    "\n",
    "#查找两个对象间的相似性\n",
    "def find_dis_value(dataset, pos, column, numeric_attr):\n",
    "    def dis_objs(tar_obj, sou_obj):\n",
    "        dis_value = 0\n",
    "        count = 0\n",
    "        for column in tar_obj.index:\n",
    "            if tar_obj[column] != np.NaN and sou_obj[column] != np.NaN:\n",
    "                if column in numeric_attr:\n",
    "                        values_sort = dataset[column].dropna().values.sort()\n",
    "                        denominator = values_sort[-1] - values_sort[0]\n",
    "                        dis_value += abs(tar_obj[column] - sou_obj[column])/denominator\n",
    "                        count += 1\n",
    "\n",
    "                elif tar_obj[column] == sou_obj[column]:\n",
    "                    dis_value += 1\n",
    "                count += 1\n",
    "            else:\n",
    "                continue\n",
    "        return dis_value/count\n",
    "\n",
    "    mindis = 9999\n",
    "    result_pos = -1\n",
    "    target_obj = dataset.ix[pos]\n",
    "    for index in dataset.index:\n",
    "        if index == pos:\n",
    "            continue\n",
    "        source_obj = dataset.ix(index)\n",
    "        tmp = dis_objs(target_obj, source_obj)\n",
    "        if tmp < mindis:\n",
    "            result_pos = index\n",
    "    return result_pos\n",
    "\n",
    "# 通过数据对象之间的相似性来填补缺失值\n",
    "data = data_df['price'].copy()\n",
    "for index, value in data.iteritems():\n",
    "    if value == np.NaN:\n",
    "        data[index] = data[find_dis_value(data_df, index, 'price', numeric_attr)]"
   ]
  },
  {
   "cell_type": "code",
   "execution_count": 35,
   "metadata": {},
   "outputs": [
    {
     "data": {
      "image/png": "[encoded data removed]",
      "text/plain": [
       "<Figure size 720x720 with 3 Axes>"
      ]
     },
     "metadata": {},
     "output_type": "display_data"
    }
   ],
   "source": [
    "#绘制处理后数据的直方图、q-q图、盒图\n",
    "plt.figure(figsize=(10,10))\n",
    "\n",
    "#直方图\n",
    "plt.subplot(2,2,1)\n",
    "plt.title(\"price直方图\")\n",
    "data.hist(bins=15)\n",
    "data_df['price'].hist(bins=15)\n",
    "plt.legend(['new','old'])\n",
    "\n",
    "#q-q图\n",
    "plt.subplot(2,2,2)\n",
    "stats.probplot(data.dropna(), dist=\"norm\", plot=plt)\n",
    "\n",
    "#盒图\n",
    "plt.subplot(2,2,3)\n",
    "plt.title(\"price盒图\")\n",
    "data.plot(kind='box', notch=True, grid=True)\n",
    "plt.show()"
   ]
  },
  {
   "cell_type": "code",
   "execution_count": 36,
   "metadata": {
    "scrolled": false
   },
   "outputs": [
    {
     "data": {
      "text/plain": [
       "count    137235.000000\n",
       "mean         33.131482\n",
       "std          36.322536\n",
       "min           4.000000\n",
       "25%          16.000000\n",
       "50%          24.000000\n",
       "75%          40.000000\n",
       "max        2300.000000\n",
       "Name: price, dtype: float64"
      ]
     },
     "execution_count": 36,
     "metadata": {},
     "output_type": "execute_result"
    }
   ],
   "source": [
    "data.describe()  #通过相似性填补后数据的5数概况"
   ]
  },
  {
   "cell_type": "markdown",
   "metadata": {},
   "source": [
    "通过相似性填补后"
   ]
  },
  {
   "cell_type": "markdown",
   "metadata": {},
   "source": [
    "price:最大值2300，最小值4，均值33.13，中位数24，四分位数[16,24,40],缺失值个数为0"
   ]
  }
 ],
 "metadata": {
  "kernelspec": {
   "display_name": "Python 3",
   "language": "python",
   "name": "python3"
  },
  "language_info": {
   "codemirror_mode": {
    "name": "ipython",
    "version": 3
   },
   "file_extension": ".py",
   "mimetype": "text/x-python",
   "name": "python",
   "nbconvert_exporter": "python",
   "pygments_lexer": "ipython3",
   "version": "3.6.5"
  }
 },
 "nbformat": 4,
 "nbformat_minor": 2
}
